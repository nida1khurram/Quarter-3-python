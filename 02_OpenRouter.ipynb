{
  "nbformat": 4,
  "nbformat_minor": 0,
  "metadata": {
    "colab": {
      "provenance": [],
      "authorship_tag": "ABX9TyPWfkDj1hUdza990Nq6WPOH",
      "include_colab_link": true
    },
    "kernelspec": {
      "name": "python3",
      "display_name": "Python 3"
    },
    "language_info": {
      "name": "python"
    }
  },
  "cells": [
    {
      "cell_type": "markdown",
      "metadata": {
        "id": "view-in-github",
        "colab_type": "text"
      },
      "source": [
        "<a href=\"https://colab.research.google.com/github/nida1khurram/Quarter-3-python/blob/main/02_OpenRouter.ipynb\" target=\"_parent\"><img src=\"https://colab.research.google.com/assets/colab-badge.svg\" alt=\"Open In Colab\"/></a>"
      ]
    },
    {
      "cell_type": "markdown",
      "source": [
        "# ***Use OpenRouter With OpenAI Agents SDK***"
      ],
      "metadata": {
        "id": "2ruoNxYeLQ1Q"
      }
    },
    {
      "cell_type": "markdown",
      "source": [
        "Setup Prerequisite:\n",
        "\n",
        " https://openrouter.ai/\n",
        "Signup at OpenRouter\n",
        "\n",
        " https://openrouter.ai/settings/keys\n",
        "Create an API Key\n",
        "\n",
        "https://openrouter.ai/deepseek/deepseek-r1-0528-qwen3-8b\n",
        "\n",
        "Select a Free Model (you can continue as we are using a free model here)\n",
        "\n",
        "See all Models List: https://openrouter.ai/models"
      ],
      "metadata": {
        "id": "LmS6xLiaLZZI"
      }
    },
    {
      "cell_type": "markdown",
      "source": [
        "# ***Install OpenAI Agents Dep.***"
      ],
      "metadata": {
        "id": "HWIwPTL4MU0H"
      }
    },
    {
      "cell_type": "code",
      "execution_count": 1,
      "metadata": {
        "colab": {
          "base_uri": "https://localhost:8080/"
        },
        "id": "lmaOUo2o184u",
        "outputId": "243bb11d-e077-4f77-f13b-2443fecc14ea"
      },
      "outputs": [
        {
          "output_type": "stream",
          "name": "stdout",
          "text": [
            "\u001b[?25l   \u001b[90m━━━━━━━━━━━━━━━━━━━━━━━━━━━━━━━━━━━━━━━━\u001b[0m \u001b[32m0.0/120.2 kB\u001b[0m \u001b[31m?\u001b[0m eta \u001b[36m-:--:--\u001b[0m\r\u001b[2K   \u001b[90m━━━━━━━━━━━━━━━━━━━━━━━━━━━━━━━━━━━━━━━━\u001b[0m \u001b[32m120.2/120.2 kB\u001b[0m \u001b[31m4.9 MB/s\u001b[0m eta \u001b[36m0:00:00\u001b[0m\n",
            "\u001b[?25h\u001b[?25l   \u001b[90m━━━━━━━━━━━━━━━━━━━━━━━━━━━━━━━━━━━━━━━━\u001b[0m \u001b[32m0.0/129.3 kB\u001b[0m \u001b[31m?\u001b[0m eta \u001b[36m-:--:--\u001b[0m\r\u001b[2K   \u001b[90m━━━━━━━━━━━━━━━━━━━━━━━━━━━━━━━━━━━━━━━━\u001b[0m \u001b[32m129.3/129.3 kB\u001b[0m \u001b[31m5.2 MB/s\u001b[0m eta \u001b[36m0:00:00\u001b[0m\n",
            "\u001b[2K   \u001b[90m━━━━━━━━━━━━━━━━━━━━━━━━━━━━━━━━━━━━━━━━\u001b[0m \u001b[32m130.3/130.3 kB\u001b[0m \u001b[31m5.2 MB/s\u001b[0m eta \u001b[36m0:00:00\u001b[0m\n",
            "\u001b[2K   \u001b[90m━━━━━━━━━━━━━━━━━━━━━━━━━━━━━━━━━━━━━━━━\u001b[0m \u001b[32m720.4/720.4 kB\u001b[0m \u001b[31m17.9 MB/s\u001b[0m eta \u001b[36m0:00:00\u001b[0m\n",
            "\u001b[2K   \u001b[90m━━━━━━━━━━━━━━━━━━━━━━━━━━━━━━━━━━━━━━━━\u001b[0m \u001b[32m44.4/44.4 kB\u001b[0m \u001b[31m2.1 MB/s\u001b[0m eta \u001b[36m0:00:00\u001b[0m\n",
            "\u001b[2K   \u001b[90m━━━━━━━━━━━━━━━━━━━━━━━━━━━━━━━━━━━━━━━━\u001b[0m \u001b[32m72.0/72.0 kB\u001b[0m \u001b[31m4.6 MB/s\u001b[0m eta \u001b[36m0:00:00\u001b[0m\n",
            "\u001b[2K   \u001b[90m━━━━━━━━━━━━━━━━━━━━━━━━━━━━━━━━━━━━━━━━\u001b[0m \u001b[32m62.5/62.5 kB\u001b[0m \u001b[31m3.8 MB/s\u001b[0m eta \u001b[36m0:00:00\u001b[0m\n",
            "\u001b[?25h"
          ]
        }
      ],
      "source": [
        "!pip install -Uq openai-agents"
      ]
    },
    {
      "cell_type": "code",
      "source": [
        "\n",
        "import nest_asyncio\n",
        "nest_asyncio.apply()"
      ],
      "metadata": {
        "id": "hfDOpugK2Flm"
      },
      "execution_count": 1,
      "outputs": []
    },
    {
      "cell_type": "markdown",
      "source": [
        "# ***Provider Config***"
      ],
      "metadata": {
        "id": "rxMC3NDFMbLW"
      }
    },
    {
      "cell_type": "code",
      "source": [
        "# from google.colab import userdata\n",
        "\n",
        "OPENROUTER_API_KEY =\"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\"\n"
      ],
      "metadata": {
        "id": "dT4b-vWPKjMJ"
      },
      "execution_count": 2,
      "outputs": []
    },
    {
      "cell_type": "code",
      "source": [
        "#Reference: https://openrouter.ai/docs/quickstart\n",
        "\n",
        "BASE_URL = \"https://openrouter.ai/api/v1\"\n",
        "MODEL = \"deepseek/deepseek-r1-0528-qwen3-8b\"\n",
        "\n",
        "# Some other free models on 26th March:\n",
        "# https://openrouter.ai/deepseek/deepseek-chat-v3-0324:free\n",
        "# https://openrouter.ai/google/gemini-2.5-pro-exp-03-25:free"
      ],
      "metadata": {
        "id": "lqFxmotxK2UH"
      },
      "execution_count": 3,
      "outputs": []
    },
    {
      "cell_type": "markdown",
      "source": [
        "# ***1. Using the OpenRouter API directly***"
      ],
      "metadata": {
        "id": "e9-c-0VzMmA_"
      }
    },
    {
      "cell_type": "code",
      "source": [
        "\n",
        "import requests\n",
        "import json\n",
        "\n",
        "response = requests.post(\n",
        "  url=f\"{BASE_URL}/chat/completions\",\n",
        "  headers={\n",
        "    \"Authorization\": f\"Bearer {OPENROUTER_API_KEY}\",\n",
        "  },\n",
        "  data=json.dumps({\n",
        "    \"model\": MODEL,\n",
        "    \"messages\": [\n",
        "      {\n",
        "        \"role\": \"user\",\n",
        "        \"content\": \"What is the meaning of life?\"\n",
        "      }\n",
        "    ]\n",
        "  })\n",
        ")\n",
        "\n",
        "print(response.json())"
      ],
      "metadata": {
        "colab": {
          "base_uri": "https://localhost:8080/"
        },
        "id": "yqU1ok7cLDzh",
        "outputId": "673ed045-2eea-4cf5-97a1-41f0df2d6a00"
      },
      "execution_count": 4,
      "outputs": [
        {
          "output_type": "stream",
          "name": "stdout",
          "text": [
            "{'id': 'gen-1748624985-kxnkFG4CgMKlDxHeHvtb', 'provider': 'Novita', 'model': 'deepseek/deepseek-r1-0528-qwen3-8b', 'object': 'chat.completion', 'created': 1748624985, 'choices': [{'logprobs': {'content': [], 'refusal': []}, 'finish_reason': 'stop', 'native_finish_reason': 'stop', 'index': 0, 'message': {'role': 'assistant', 'content': '\"What is the meaning of life?\" is one of the most profound and complex questions humans have ever asked. There’s no single answer, and the search for meaning often involves philosophy, religion, culture, and personal experience. Here are some common perspectives:\\n\\n### 1. **Religious/Spiritual Perspective**\\n   - In many traditions, the meaning of life is tied to spiritual growth or serving a higher power. Life might be seen as a journey toward union with the divine, achieving enlightenment, or fulfilling a divine purpose.\\n\\n### 2. **Philosophical Perspective**\\n   - **Existentialism**: Life may have no inherent meaning, but it’s up to you to create your own purpose through choices and actions.\\n   - **Nihilism**: Some view life as inherently meaningless, rejecting the idea of any ultimate purpose.\\n   - **Humanism**: Emphasizes human potential, reason, and compassion, with meaning arising from human experience, relationships, and contributions to society.\\n\\n### 3. **Scientific Perspective**\\n   - From a biological standpoint, life’s \"purpose\" is survival and reproduction. But many would argue this is too narrow, reducing human existence to mere biology without addressing deeper questions of significance.\\n\\n### 4. **The Search for Meaning**\\n   - For many, meaning comes from experiences: love, creativity, helping others, achieving goals, learning, and exploring the world. People often find purpose through relationships, careers, hobbies, raising family, or contributing to their communities.\\n\\n### 5. **Modern Thinkers and Perspectives**\\n   - Some philosophers, like Viktor Frankl, suggested that meaning can be found even in suffering by choosing one’s attitude and priorities (as explored in *Man’s Search for Meaning*). Others, like Albert Camus (in *The Myth of Sisyphus*), recognize life’s absurdity but argue that we can choose to embrace it anyway.\\n\\nIn short, there is no universal, definitive answer. The meaning of life is deeply personal—something you may need to discover or create for yourself through reflection, relationships, and purposeful action.\\n\\nWould you like to explore any particular viewpoint in more detail?', 'refusal': None, 'reasoning': 'Hmm, \"What is the meaning of life?\" - such a classic question that\\'s been pondered by humans for millennia. The user might be feeling existential, or perhaps they\\'re just curious about philosophical perspectives. Given the universal nature of this query, they could be anyone from a student exploring deep questions to someone going through a midlife crisis. \\n\\nThe phrasing is simple but carries significant weight - it\\'s not about biological functions but about purpose and significance. They probably don\\'t expect a scientific or medical answer, but rather would appreciate the depth of human thought on this matter. \\n\\nThis is one of those questions where there\\'s no single correct answer - which is both frustrating and liberating. The user might be subconsciously asking for reassurance that it\\'s okay not to have a definitive answer. \\n\\nI should cover major philosophical approaches without getting too academic. The key is to balance intellectual rigor with emotional resonance - this isn\\'t just about ideas but about how they make us feel. The user would likely appreciate seeing how different traditions approach the question, from the religious to the humanistic. \\n\\nThe existential perspective might be most valuable here - it acknowledges the question\\'s difficulty while offering a framework for finding personal meaning anyway. The ecological angle could add refreshing modern context too. Should avoid sounding preachy or dismissive - this is too big a question to trivialize. \\n\\nUltimately, the answer should leave room for the user\\'s own exploration rather than providing closure. That\\'s probably what\\'s most helpful for someone asking this deep a question.\\n'}}], 'usage': {'prompt_tokens': 12, 'completion_tokens': 748, 'total_tokens': 760, 'prompt_tokens_details': None, 'completion_tokens_details': None}}\n"
          ]
        }
      ]
    },
    {
      "cell_type": "code",
      "source": [
        "data = response.json()\n",
        "data['choices'][0]['message']['content']"
      ],
      "metadata": {
        "colab": {
          "base_uri": "https://localhost:8080/",
          "height": 140
        },
        "id": "ZqdNo9UWMudo",
        "outputId": "d1a169d7-07c6-4747-accd-795b6f354bc3"
      },
      "execution_count": 5,
      "outputs": [
        {
          "output_type": "execute_result",
          "data": {
            "text/plain": [
              "'\"What is the meaning of life?\" is one of the most profound and complex questions humans have ever asked. There’s no single answer, and the search for meaning often involves philosophy, religion, culture, and personal experience. Here are some common perspectives:\\n\\n### 1. **Religious/Spiritual Perspective**\\n   - In many traditions, the meaning of life is tied to spiritual growth or serving a higher power. Life might be seen as a journey toward union with the divine, achieving enlightenment, or fulfilling a divine purpose.\\n\\n### 2. **Philosophical Perspective**\\n   - **Existentialism**: Life may have no inherent meaning, but it’s up to you to create your own purpose through choices and actions.\\n   - **Nihilism**: Some view life as inherently meaningless, rejecting the idea of any ultimate purpose.\\n   - **Humanism**: Emphasizes human potential, reason, and compassion, with meaning arising from human experience, relationships, and contributions to society.\\n\\n### 3. **Scientific Perspective**\\n   - From a biological standpoint, life’s \"purpose\" is survival and reproduction. But many would argue this is too narrow, reducing human existence to mere biology without addressing deeper questions of significance.\\n\\n### 4. **The Search for Meaning**\\n   - For many, meaning comes from experiences: love, creativity, helping others, achieving goals, learning, and exploring the world. People often find purpose through relationships, careers, hobbies, raising family, or contributing to their communities.\\n\\n### 5. **Modern Thinkers and Perspectives**\\n   - Some philosophers, like Viktor Frankl, suggested that meaning can be found even in suffering by choosing one’s attitude and priorities (as explored in *Man’s Search for Meaning*). Others, like Albert Camus (in *The Myth of Sisyphus*), recognize life’s absurdity but argue that we can choose to embrace it anyway.\\n\\nIn short, there is no universal, definitive answer. The meaning of life is deeply personal—something you may need to discover or create for yourself through reflection, relationships, and purposeful action.\\n\\nWould you like to explore any particular viewpoint in more detail?'"
            ],
            "application/vnd.google.colaboratory.intrinsic+json": {
              "type": "string"
            }
          },
          "metadata": {},
          "execution_count": 5
        }
      ]
    },
    {
      "cell_type": "markdown",
      "source": [
        "# ***2. Using OpenAI Agents SDK***"
      ],
      "metadata": {
        "id": "w6XfntRaMyxn"
      }
    },
    {
      "cell_type": "code",
      "source": [
        "!pip install openai-agents"
      ],
      "metadata": {
        "id": "RLkgktriNrv4"
      },
      "execution_count": null,
      "outputs": []
    },
    {
      "cell_type": "code",
      "source": [
        "import asyncio\n",
        "from openai import AsyncOpenAI\n",
        "from agents import Agent, OpenAIChatCompletionsModel, Runner, set_tracing_disabled\n",
        "\n",
        "client = AsyncOpenAI(\n",
        "    api_key=OPENROUTER_API_KEY,\n",
        "    base_url=BASE_URL\n",
        ")\n",
        "\n",
        "set_tracing_disabled(disabled=True)\n",
        "\n",
        "async def main():\n",
        "    # This agent will use the custom LLM provider\n",
        "    agent = Agent(\n",
        "        name=\"Assistant\",\n",
        "        instructions=\"You only respond in haikus.\",\n",
        "        model=OpenAIChatCompletionsModel(model=MODEL, openai_client=client),\n",
        "    )\n",
        "\n",
        "    result = await Runner.run(\n",
        "        agent,\n",
        "        \"Tell me about recursion in programming.\",\n",
        "    )\n",
        "    print(result.final_output)\n",
        "\n",
        "\n",
        "if __name__ == \"__main__\":\n",
        "    asyncio.run(main())"
      ],
      "metadata": {
        "colab": {
          "base_uri": "https://localhost:8080/"
        },
        "id": "wVt6fQE2M44P",
        "outputId": "91d11900-534c-406b-fd54-3d84fc91076e"
      },
      "execution_count": 8,
      "outputs": [
        {
          "output_type": "stream",
          "name": "stdout",
          "text": [
            "Tiny function calls\n",
            "Itself to handle subtasks\n",
            "Base case stops all\n"
          ]
        }
      ]
    }
  ]
}