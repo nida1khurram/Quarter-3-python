{
 "cells": [
  {
   "cell_type": "markdown",
   "metadata": {},
   "source": [
    "Problem Statement\n",
    "Use Python to calculate the number of seconds in a year, and tell the user what the result is in a nice print statement that looks like this (of course the value 5 should be the calculated number instead):\n",
    "\n",
    "There are 5 seconds in a year!\n",
    "\n",
    "You should use constants for this exercise -- there are 365 days in a year, 24 hours in a day, 60 minutes in an hour, and 60 seconds per minute."
   ]
  },
  {
   "cell_type": "code",
   "execution_count": 7,
   "metadata": {},
   "outputs": [
    {
     "name": "stdout",
     "output_type": "stream",
     "text": [
      "Calculate Time\n",
      "There are 365 Days in a year\n",
      "There are 8760 Hours in a year\n",
      "There are 525600 Minutes in a year\n",
      "There are 31536000 seconds in a year!\n"
     ]
    }
   ],
   "source": [
    "# Useful constants to help make the math easier and cleaner!\n",
    "DAYS_PER_YEAR: int = 365\n",
    "HOURS_PER_DAY: int = 24\n",
    "MIN_PER_HOUR: int = 60\n",
    "SEC_PER_MIN: int = 60\n",
    "hour_per_year : int = DAYS_PER_YEAR * HOURS_PER_DAY\n",
    "min_per_year : int = hour_per_year * MIN_PER_HOUR\n",
    "\n",
    "\n",
    "def main():\n",
    "    print(\"Calculate Time\")\n",
    "    print(f\"There are {DAYS_PER_YEAR} Days in a year\")\n",
    "    print(f\"There are {hour_per_year} Hours in a year\")\n",
    "    print(f\"There are {min_per_year} Minutes in a year\")\n",
    "    # We can get the number of seconds per year by multiplying the handy constants above!\n",
    "    print(\"There are \" + str(DAYS_PER_YEAR * HOURS_PER_DAY * MIN_PER_HOUR * SEC_PER_MIN) + \" seconds in a year!\")\n",
    "    \n",
    "\n",
    "\n",
    "# There is no need to edit code beyond this point\n",
    "\n",
    "if __name__ == '__main__':\n",
    "    main()"
   ]
  },
  {
   "cell_type": "code",
   "execution_count": 8,
   "metadata": {},
   "outputs": [
    {
     "name": "stdout",
     "output_type": "stream",
     "text": [
      "\n",
      "In the year 2024:\n",
      "Days: 366\n",
      "Hours: 8784\n",
      "Minutes: 527040\n",
      "Seconds: 31622400\n"
     ]
    }
   ],
   "source": [
    "def calculate_time_units(year):\n",
    "    # Check if the year is a leap year\n",
    "    is_leap_year = (year % 4 == 0 and year % 100 != 0) or (year % 400 == 0)\n",
    "    \n",
    "    # Calculate days, hours, minutes, and seconds\n",
    "    days = 366 if is_leap_year else 365\n",
    "    hours = days * 24\n",
    "    minutes = hours * 60\n",
    "    seconds = minutes * 60\n",
    "    \n",
    "    return days, hours, minutes, seconds\n",
    "\n",
    "# Input year\n",
    "year = int(input(\"Enter a year: \"))\n",
    "\n",
    "# Calculate time units\n",
    "days, hours, minutes, seconds = calculate_time_units(year)\n",
    "\n",
    "# Print results\n",
    "print(f\"\\nIn the year {year}:\")\n",
    "print(f\"Days: {days}\")\n",
    "print(f\"Hours: {hours}\")\n",
    "print(f\"Minutes: {minutes}\")\n",
    "print(f\"Seconds: {seconds}\")"
   ]
  }
 ],
 "metadata": {
  "kernelspec": {
   "display_name": "python12",
   "language": "python",
   "name": "python3"
  },
  "language_info": {
   "codemirror_mode": {
    "name": "ipython",
    "version": 3
   },
   "file_extension": ".py",
   "mimetype": "text/x-python",
   "name": "python",
   "nbconvert_exporter": "python",
   "pygments_lexer": "ipython3",
   "version": "3.12.0"
  }
 },
 "nbformat": 4,
 "nbformat_minor": 2
}
