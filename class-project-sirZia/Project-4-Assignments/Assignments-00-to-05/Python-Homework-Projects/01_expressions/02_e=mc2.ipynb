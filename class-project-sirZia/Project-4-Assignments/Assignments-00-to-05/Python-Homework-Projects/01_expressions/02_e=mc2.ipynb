{
 "cells": [
  {
   "cell_type": "markdown",
   "metadata": {},
   "source": [
    "Problem Statement\n",
    "Write a program that continually reads in mass from the user and then outputs the equivalent energy using Einstein's mass-energy equivalence formula (E stands for energy, m stands for mass, and C is the speed of light:\n",
    "\n",
    "E = m * c**2\n",
    "\n",
    "Almost 100 years ago, Albert Einstein famously discovered that mass and energy are interchangeable and are related by the above equation. You should ask the user for mass (m) in kilograms and use a constant value for the speed of light -- C = 299792458 m/s.\n",
    "\n",
    "Here's a sample run of the program (user input is in bold italics):\n",
    "\n",
    "Enter kilos of mass: 100\n",
    "\n",
    "e = m * C^2...\n",
    "\n",
    "m = 100.0 kg\n",
    "\n",
    "C = 299792458 m/s\n",
    "\n",
    "8.987551787368176e+18 joules of energy!"
   ]
  },
  {
   "cell_type": "code",
   "execution_count": 2,
   "metadata": {},
   "outputs": [
    {
     "name": "stdout",
     "output_type": "stream",
     "text": [
      "e = m * C^2...\n",
      "m = 100.0 kg\n",
      "C = 299792458 m/s\n",
      "8.987551787368176e+18 joules of energy!\n"
     ]
    }
   ],
   "source": [
    "C: int = 299792458  # The speed of light in m/s\n",
    "\n",
    "def main():\n",
    "    mass_in_kg: float = float(input(\"Enter kilos of mass: \"))\n",
    "\n",
    "    # Calculate energy\n",
    "    # equivalently energy = mass * (C ** 2)\n",
    "    # using the ** operator to raise C to the power of 2\n",
    "    energy_in_joules: float = mass_in_kg * (C ** 2)\n",
    "\n",
    "    # Display work to the user\n",
    "    print(\"e = m * C^2...\")\n",
    "    print(\"m = \" + str(mass_in_kg) + \" kg\")\n",
    "    print(\"C = \" + str(C) + \" m/s\")\n",
    "    \n",
    "    print(str(energy_in_joules) + \" joules of energy!\")\n",
    "\n",
    "\n",
    "# There is no need to edit code beyond this point\n",
    "\n",
    "if __name__ == '__main__':\n",
    "    main()"
   ]
  }
 ],
 "metadata": {
  "kernelspec": {
   "display_name": "python12",
   "language": "python",
   "name": "python3"
  },
  "language_info": {
   "codemirror_mode": {
    "name": "ipython",
    "version": 3
   },
   "file_extension": ".py",
   "mimetype": "text/x-python",
   "name": "python",
   "nbconvert_exporter": "python",
   "pygments_lexer": "ipython3",
   "version": "3.12.0"
  }
 },
 "nbformat": 4,
 "nbformat_minor": 2
}
