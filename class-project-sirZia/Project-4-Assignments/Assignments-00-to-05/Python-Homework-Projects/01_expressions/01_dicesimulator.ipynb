{
 "cells": [
  {
   "cell_type": "markdown",
   "metadata": {},
   "source": [
    "Problem Statement\n",
    "Simulate rolling two dice, three times. Prints the results of each die roll. This program is used to show how variable scope works."
   ]
  },
  {
   "cell_type": "code",
   "execution_count": 5,
   "metadata": {},
   "outputs": [
    {
     "name": "stdout",
     "output_type": "stream",
     "text": [
      "Simulate  Rolling two dice\n",
      "Roll 1: Die 1 = 4, Die 2 = 2\n",
      "Roll 2: Die 1 = 6, Die 2 = 2\n",
      "Roll 3: Die 1 = 5, Die 2 = 6\n"
     ]
    }
   ],
   "source": [
    "import random\n",
    "NUM_SIDES = 6\n",
    "print(\"Simulate  Rolling two dice\")\n",
    "def roll_dice():\n",
    "    # Simulate rolling two dice\n",
    "    die1 = random.randint(1, NUM_SIDES)\n",
    "    die2 = random.randint(1, NUM_SIDES)\n",
    "    return die1, die2\n",
    "\n",
    "def main():\n",
    "    # Roll the dice three times\n",
    "    for i in range(3):\n",
    "        result1, result2 = roll_dice()\n",
    "        print(f\"Roll {i+1}: Die 1 = {result1}, Die 2 = {result2}\")\n",
    "\n",
    "# Call the main function to run the program\n",
    "main()"
   ]
  }
 ],
 "metadata": {
  "kernelspec": {
   "display_name": "python12",
   "language": "python",
   "name": "python3"
  },
  "language_info": {
   "codemirror_mode": {
    "name": "ipython",
    "version": 3
   },
   "file_extension": ".py",
   "mimetype": "text/x-python",
   "name": "python",
   "nbconvert_exporter": "python",
   "pygments_lexer": "ipython3",
   "version": "3.12.0"
  }
 },
 "nbformat": 4,
 "nbformat_minor": 2
}
