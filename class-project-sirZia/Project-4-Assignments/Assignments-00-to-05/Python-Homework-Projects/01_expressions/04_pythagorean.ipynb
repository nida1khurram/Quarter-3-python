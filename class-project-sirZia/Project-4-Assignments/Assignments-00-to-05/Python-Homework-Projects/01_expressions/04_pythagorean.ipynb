{
 "cells": [
  {
   "cell_type": "markdown",
   "metadata": {},
   "source": [
    "Problem Statement\n",
    "Write a program that asks the user for the lengths of the two perpendicular sides of a right triangle and outputs the length of the third side (the hypotenuse) using the Pythagorean theorem!\n",
    "\n",
    "The Pythagorean theorem, named after the ancient Greek thinker, Pythagoras, is a fundamental relation in geometry. It states that in a right triangle, the square of the hypotenuse is equal to the sum of the square of the other two sides.\n",
    "\n",
    "For instance, let's consider a right triangle ABC, with the right angle located at C. According to the Pythagorean theorem:\n",
    "\n",
    "BC ** 2 = AB ** 2 + AC ** 2\n",
    "\n",
    "Your code should read in the lengths of the sides AB and AC, and that outputs the length of the hypotenuse (BC). You will probably find math.sqrt() to be useful.\n",
    "\n",
    "Here's a sample run of the program (user input is in bold italics):\n",
    "\n",
    "Enter the length of AB: 3\n",
    "\n",
    "Enter the length of AC: 4\n",
    "\n",
    "The length of BC (the hypotenuse) is: 5.0"
   ]
  },
  {
   "cell_type": "code",
   "execution_count": 3,
   "metadata": {},
   "outputs": [
    {
     "name": "stdout",
     "output_type": "stream",
     "text": [
      "Length of the hypotenuse :\n",
      "Enter the length of AB: 3.0\n",
      "Enter the length of AB: 4.0\n",
      "The length of BC (the hypotenuse) is: 5.0\n"
     ]
    }
   ],
   "source": [
    "import math  # Import the math library so we can use the sqrt function\n",
    "\n",
    "def main():\n",
    "    print(\"Length of the hypotenuse :\")\n",
    "    # Get the two side lengths from the user and cast them to be numbers\n",
    "    ab: float = float(input(\"Enter the length of AB: \"))\n",
    "    ac: float = float(input(\"Enter the length of AC: \"))\n",
    "    print(f\"Enter the length of AB: {ab}\")\n",
    "    print(f\"Enter the length of AB: {ac}\")\n",
    "    # Calculate the hypotenuse using the two sides and print it out\n",
    "    bc: float = math.sqrt(ab**2 + ac**2)\n",
    "    print(\"The length of BC (the hypotenuse) is: \" + str(bc))\n",
    "\n",
    "\n",
    "# There is no need to edit code beyond this point\n",
    "\n",
    "if __name__ == '__main__':\n",
    "    main()"
   ]
  }
 ],
 "metadata": {
  "kernelspec": {
   "display_name": "python12",
   "language": "python",
   "name": "python3"
  },
  "language_info": {
   "codemirror_mode": {
    "name": "ipython",
    "version": 3
   },
   "file_extension": ".py",
   "mimetype": "text/x-python",
   "name": "python",
   "nbconvert_exporter": "python",
   "pygments_lexer": "ipython3",
   "version": "3.12.0"
  }
 },
 "nbformat": 4,
 "nbformat_minor": 2
}
