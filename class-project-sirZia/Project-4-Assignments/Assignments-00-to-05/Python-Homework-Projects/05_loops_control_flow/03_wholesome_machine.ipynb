{
 "cells": [
  {
   "cell_type": "markdown",
   "metadata": {},
   "source": [
    "Problem Statement\n",
    "Write a program which prompts the user to type an affirmation of your choice (we'll use \"I am capable of doing anything I put my mind to.\") until they type it correctly. Sometimes, especially in the midst of such uncertain times, we just need to be reminded that we are resilient, capable, and strong; this little Python program may be able to help!\n",
    "\n",
    "Here's a sample run of the program (user input is in blue):\n",
    "\n",
    "Please type the following affirmation: I am capable of doing anything I put my mind to. Hmmm That was not the affirmation. Please type the following affirmation: I am capable of doing anything I put my mind to. I am capable of doing anything I put my mind to. That's right! :)\n",
    "\n",
    "Note that you can call input() with no prompt and it will still wait for a user to type something!"
   ]
  },
  {
   "cell_type": "code",
   "execution_count": null,
   "metadata": {},
   "outputs": [
    {
     "name": "stdout",
     "output_type": "stream",
     "text": [
      "Please type the following affirmation: I am capable of doing anything I put my mind to.\n",
      "That was not the affirmation.\n",
      "Please type the following affirmation: I am capable of doing anything I put my mind to.\n",
      "That was not the affirmation.\n",
      "Please type the following affirmation: I am capable of doing anything I put my mind to.\n",
      "That was not the affirmation.\n",
      "Please type the following affirmation: I am capable of doing anything I put my mind to.\n"
     ]
    }
   ],
   "source": [
    "AFFIRMATION : str = \"I am capable of doing anything I put my mind to.\"\n",
    "\n",
    "def main():\n",
    "    print(\"Please type the following affirmation: \" + AFFIRMATION)\n",
    "\n",
    "    user_feedback = input()  # Get user's input\n",
    "    while user_feedback != AFFIRMATION:  # While the user's input isn't the affirmation\n",
    "        # Tell the user that they did not type the affirmation correctly\n",
    "        print(\"That was not the affirmation.\")\n",
    "\n",
    "        # Ask the user to type the affirmation again!\n",
    "        print(\"Please type the following affirmation: \" + AFFIRMATION)\n",
    "        user_feedback = input()\n",
    "\n",
    "    print(\"That's right! :)\")\n",
    "\n",
    "\n",
    "# There is no need to edit code beyond this point\n",
    "\n",
    "if __name__ == '__main__':\n",
    "    main()"
   ]
  }
 ],
 "metadata": {
  "kernelspec": {
   "display_name": "python12",
   "language": "python",
   "name": "python3"
  },
  "language_info": {
   "codemirror_mode": {
    "name": "ipython",
    "version": 3
   },
   "file_extension": ".py",
   "mimetype": "text/x-python",
   "name": "python",
   "nbconvert_exporter": "python",
   "pygments_lexer": "ipython3",
   "version": "3.12.0"
  }
 },
 "nbformat": 4,
 "nbformat_minor": 2
}
