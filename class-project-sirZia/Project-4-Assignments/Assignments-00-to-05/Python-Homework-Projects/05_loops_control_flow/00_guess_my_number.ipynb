{
 "cells": [
  {
   "cell_type": "markdown",
   "metadata": {},
   "source": [
    "Problem Statement\n",
    "Guess My Number\n",
    "\n",
    "I am thinking of a number between 0 and 99... Enter a guess: 50 Your guess is too high\n",
    "\n",
    "Enter a new number: 25 Your guess is too low\n",
    "\n",
    "Enter a new number: 40 Your guess is too low\n",
    "\n",
    "Enter a new number: 45 Your guess is too low\n",
    "\n",
    "Enter a new number: 48 Congrats! The number was: 48"
   ]
  },
  {
   "cell_type": "code",
   "execution_count": 1,
   "metadata": {},
   "outputs": [
    {
     "name": "stdout",
     "output_type": "stream",
     "text": [
      "I am thinking of a number between 1 and 99...\n",
      "Your guess is too high\n",
      "\n",
      "Your guess is too low\n",
      "\n",
      "Your guess is too high\n",
      "\n",
      "Your guess is too high\n",
      "\n",
      "Your guess is too low\n",
      "\n",
      "Your guess is too low\n",
      "\n",
      "Your guess is too low\n",
      "\n",
      "Your guess is too low\n",
      "\n",
      "Your guess is too low\n",
      "\n",
      "Your guess is too low\n",
      "\n",
      "Your guess is too high\n",
      "\n",
      "Your guess is too high\n",
      "\n",
      "Your guess is too low\n",
      "\n",
      "Congrats! The number was: 34\n"
     ]
    }
   ],
   "source": [
    "import random\n",
    "\n",
    "def main():\n",
    "    # Generate the secret number at random!\n",
    "    secret_number = random.randint(1, 99)\n",
    "    \n",
    "    print(\"I am thinking of a number between 1 and 99...\")\n",
    "    \n",
    "    # Get user's guess\n",
    "    guess = int(input(\"Enter a guess: \"))\n",
    "    # True if guess is not equal to secret number\n",
    "    while guess != secret_number:\n",
    "        if guess < secret_number:  # If-statement is True if guess is less than secret number\n",
    "            print(\"Your guess is too low\")\n",
    "        else:\n",
    "            print(\"Your guess is too high\")\n",
    "            \n",
    "        print() # Print an empty line to tidy up the console for new guesses\n",
    "        guess = int(input(\"Enter a new guess: \"))  # Get a new guess from the user\n",
    "        \n",
    "    print(\"Congrats! The number was: \" + str(secret_number))\n",
    "    \n",
    "if __name__ == '__main__':\n",
    "    main()"
   ]
  }
 ],
 "metadata": {
  "kernelspec": {
   "display_name": "python12",
   "language": "python",
   "name": "python3"
  },
  "language_info": {
   "codemirror_mode": {
    "name": "ipython",
    "version": 3
   },
   "file_extension": ".py",
   "mimetype": "text/x-python",
   "name": "python",
   "nbconvert_exporter": "python",
   "pygments_lexer": "ipython3",
   "version": "3.12.0"
  }
 },
 "nbformat": 4,
 "nbformat_minor": 2
}
