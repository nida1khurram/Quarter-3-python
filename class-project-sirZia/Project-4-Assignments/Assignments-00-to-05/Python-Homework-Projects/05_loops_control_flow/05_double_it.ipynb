{
 "cells": [
  {
   "cell_type": "markdown",
   "metadata": {},
   "source": [
    "Problem Statement\n",
    "Write a program that asks a user to enter a number. Your program will then double that number and print out the result. It will repeat that process until the value is 100 or greater.\n",
    "\n",
    "For example if the user enters the number 2 you would then print:\n",
    "\n",
    "4 8 16 32 64 128\n",
    "\n",
    "Note that:\n",
    "\n",
    "2 doubled is 4\n",
    "\n",
    "4 doubled is 8\n",
    "\n",
    "8 doubled is 16\n",
    "\n",
    "and so on.\n",
    "\n",
    "We stop at 128 because that value is greater than 100.\n",
    "\n",
    "Maintain the current number in a variable named curr_value. When you double the number, you should be updating curr_value. Recall that you can double the value of curr_value using a line like:\n",
    "\n",
    "curr_value = curr_value * 2\n",
    "\n",
    "This program should have a while loop and the while loop condition should test if curr_value is less than 100. Thus, your program will have the line:\n",
    "\n",
    "while curr_value < 100:"
   ]
  },
  {
   "cell_type": "code",
   "execution_count": 10,
   "metadata": {},
   "outputs": [
    {
     "name": "stdout",
     "output_type": "stream",
     "text": [
      "Program Double Number\n",
      "4 8 16 32 64 128 "
     ]
    }
   ],
   "source": [
    "def main():\n",
    "    print(\"Program Double Number\")\n",
    "    # Ask the user to enter a number\n",
    "    curr_value = int(input(\"Enter a number: \"))\n",
    "\n",
    "    # Double the number until it is 100 or greater\n",
    "    while curr_value < 100:\n",
    "        curr_value = curr_value * 2  # Double the current value\n",
    "        print(curr_value, end=\" \")  # Print the result with a space instead of a newline\n",
    "\n",
    "\n",
    "if __name__ == '__main__':\n",
    "    main()"
   ]
  }
 ],
 "metadata": {
  "kernelspec": {
   "display_name": "python12",
   "language": "python",
   "name": "python3"
  },
  "language_info": {
   "codemirror_mode": {
    "name": "ipython",
    "version": 3
   },
   "file_extension": ".py",
   "mimetype": "text/x-python",
   "name": "python",
   "nbconvert_exporter": "python",
   "pygments_lexer": "ipython3",
   "version": "3.12.0"
  }
 },
 "nbformat": 4,
 "nbformat_minor": 2
}
