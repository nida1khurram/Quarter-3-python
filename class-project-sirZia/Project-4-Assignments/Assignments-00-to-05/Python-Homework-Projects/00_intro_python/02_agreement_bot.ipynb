{
 "cells": [
  {
   "cell_type": "markdown",
   "metadata": {},
   "source": [
    "Problem Statement\n",
    "Write a program which asks the user what their favorite animal is, and then always responds with \"My favorite animal is also ___!\" (the blank should be filled in with the user-inputted animal, of course).\n",
    "\n",
    "Here's a sample run of the program (user input is in bold italics - note the space between the prompt and the user input!):\n",
    "\n",
    "What's your favorite animal? cow\n",
    "\n",
    "My favorite animal is also cow!"
   ]
  },
  {
   "cell_type": "code",
   "execution_count": null,
   "metadata": {},
   "outputs": [
    {
     "name": "stdout",
     "output_type": "stream",
     "text": [
      "Favourite Animal\n",
      "My favorite animal is also Cow!\n"
     ]
    }
   ],
   "source": [
    "def fav_animal():\n",
    "    print(\"Favorite Animal\")\n",
    "    user_fav_animal = input(\"What's your favorite animal?\")\n",
    "    return print(f\"My favorite animal is also {user_fav_animal}!\")\n",
    "fav_animal()"
   ]
  }
 ],
 "metadata": {
  "kernelspec": {
   "display_name": "python12",
   "language": "python",
   "name": "python3"
  },
  "language_info": {
   "codemirror_mode": {
    "name": "ipython",
    "version": 3
   },
   "file_extension": ".py",
   "mimetype": "text/x-python",
   "name": "python",
   "nbconvert_exporter": "python",
   "pygments_lexer": "ipython3",
   "version": "3.12.0"
  }
 },
 "nbformat": 4,
 "nbformat_minor": 2
}
