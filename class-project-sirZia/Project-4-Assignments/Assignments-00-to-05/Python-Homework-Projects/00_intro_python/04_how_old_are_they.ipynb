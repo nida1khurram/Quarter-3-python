{
 "cells": [
  {
   "cell_type": "markdown",
   "metadata": {},
   "source": [
    "Problem Statement\n",
    "Write a program to solve this age-related riddle!\n",
    "\n",
    "Anton, Beth, Chen, Drew, and Ethan are all friends. Their ages are as follows:\n",
    "\n",
    "Anton is 21 years old.\n",
    "\n",
    "Beth is 6 years older than Anton.\n",
    "\n",
    "Chen is 20 years older than Beth.\n",
    "\n",
    "Drew is as old as Chen's age plus Anton's age.\n",
    "\n",
    "Ethan is the same age as Chen.\n",
    "\n",
    "Your code should store each person's age to a variable and print their names and ages at the end. The autograder is sensitive to capitalization and punctuation, be careful! Your solution should look like this (the below numbers are made up -- your solution should have the correct values!):\n",
    "\n",
    "Anton is 3\n",
    "\n",
    "Beth is 4\n",
    "\n",
    "Chen is 5\n",
    "\n",
    "Drew is 6\n",
    "\n",
    "Ethan is 7"
   ]
  },
  {
   "cell_type": "code",
   "execution_count": null,
   "metadata": {},
   "outputs": [
    {
     "name": "stdout",
     "output_type": "stream",
     "text": [
      "program age-related riddle!\n",
      "Anton's Age is :21\n",
      "Beth's Age is :27\n",
      "Drew's Age is :68\n",
      "Ethan's Age is :47\n"
     ]
    }
   ],
   "source": [
    "def main():\n",
    "    print(\"program age-related riddle!\")\n",
    "    Anton :int= 21\n",
    "    Beth :int = 21 + 6\n",
    "    Chen :int = Beth + 20\n",
    "    Drew :int= Chen + Anton\n",
    "    Ethan :int = Chen\n",
    "    print(f\"Anton's Age is :{Anton}\")\n",
    "    print(f\"Beth's Age is :{Beth}\")\n",
    "    print(f\"Drew's Age is :{Drew}\")\n",
    "    print(f\"Ethan's Age is :{Ethan}\")\n",
    "main()\n",
    "    "
   ]
  }
 ],
 "metadata": {
  "kernelspec": {
   "display_name": "python12",
   "language": "python",
   "name": "python3"
  },
  "language_info": {
   "codemirror_mode": {
    "name": "ipython",
    "version": 3
   },
   "file_extension": ".py",
   "mimetype": "text/x-python",
   "name": "python",
   "nbconvert_exporter": "python",
   "pygments_lexer": "ipython3",
   "version": "3.12.0"
  }
 },
 "nbformat": 4,
 "nbformat_minor": 2
}
