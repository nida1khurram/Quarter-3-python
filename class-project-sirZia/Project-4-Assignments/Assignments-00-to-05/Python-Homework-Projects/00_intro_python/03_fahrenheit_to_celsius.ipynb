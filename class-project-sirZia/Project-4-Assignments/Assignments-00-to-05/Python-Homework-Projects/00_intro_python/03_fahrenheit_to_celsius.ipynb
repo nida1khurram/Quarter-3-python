{
 "cells": [
  {
   "cell_type": "markdown",
   "metadata": {},
   "source": [
    "Problem Statement\n",
    "Write a program which prompts the user for a temperature in Fahrenheit (this can be a number with decimal places!) and outputs the temperature converted to Celsius.\n",
    "\n",
    "The Celsius scale is widely used to measure temperature, but places still use Fahrenheit. Fahrenheit is another unit for temperature, but the scale is different from Celsius -- for example, 0 degrees Celsius is 32 degrees Fahrenheit!\n",
    "\n",
    "The equation you should use for converting from Fahrenheit to Celsius is the following:\n",
    "\n",
    "degrees_celsius = (degrees_fahrenheit - 32) * 5.0/9.0\n",
    "\n",
    "(Note. The .0 after the 5 and 9 matters in the line above!!!)\n",
    "\n",
    "Here's a sample run of the program (user input is in bold italics):\n",
    "\n",
    "Enter temperature in Fahrenheit: 76\n",
    "\n",
    "Temperature: 76.0F = 24.444444444444443C"
   ]
  },
  {
   "cell_type": "code",
   "execution_count": 3,
   "metadata": {},
   "outputs": [
    {
     "name": "stdout",
     "output_type": "stream",
     "text": [
      " Fahrenheit converted to Celsius\n",
      "Temperature: 76.0F = 24.444444444444443C\n"
     ]
    }
   ],
   "source": [
    "def main():\n",
    "    print(\" Fahrenheit converted to Celsius\")\n",
    "    # Prompt the user for a temperature in Fahrenheit\n",
    "    degrees_fahrenheit = float(input(\"Enter temperature in Fahrenheit: \"))\n",
    "    \n",
    "    # Convert Fahrenheit to Celsius using the given formula\n",
    "    degrees_celsius = (degrees_fahrenheit - 32) * 5.0 / 9.0\n",
    "    \n",
    "    # Output the converted temperature\n",
    "    print(f\"Temperature: {degrees_fahrenheit}F = {degrees_celsius}C\")\n",
    "\n",
    "# Call the main function to execute the program\n",
    "if __name__ == \"__main__\":\n",
    "    main()"
   ]
  }
 ],
 "metadata": {
  "kernelspec": {
   "display_name": "python12",
   "language": "python",
   "name": "python3"
  },
  "language_info": {
   "codemirror_mode": {
    "name": "ipython",
    "version": 3
   },
   "file_extension": ".py",
   "mimetype": "text/x-python",
   "name": "python",
   "nbconvert_exporter": "python",
   "pygments_lexer": "ipython3",
   "version": "3.12.0"
  }
 },
 "nbformat": 4,
 "nbformat_minor": 2
}
