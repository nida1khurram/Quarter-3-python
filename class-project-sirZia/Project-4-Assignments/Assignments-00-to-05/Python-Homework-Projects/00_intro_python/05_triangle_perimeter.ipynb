{
 "cells": [
  {
   "cell_type": "markdown",
   "metadata": {},
   "source": [
    "Problem Statement\n",
    "Prompt the user to enter the lengths of each side of a triangle and then calculate and print the perimeter of the triangle (the sum of all of the side lengths).\n",
    "\n",
    "Here's a sample run of the program (user input is in bold italics):\n",
    "\n",
    "What is the length of side 1? 3\n",
    "\n",
    "What is the length of side 2? 4\n",
    "\n",
    "What is the length of side 3? 5.5\n",
    "\n",
    "The perimeter of the triangle is 12.5"
   ]
  },
  {
   "cell_type": "code",
   "execution_count": 3,
   "metadata": {},
   "outputs": [
    {
     "name": "stdout",
     "output_type": "stream",
     "text": [
      "Perimeter of the triangle\n",
      "The sum perimeter of the triangle is 12.5\n"
     ]
    }
   ],
   "source": [
    "def main():\n",
    "    print(\"Perimeter of the triangle\")\n",
    "    # Prompt the user for the lengths of the three sides\n",
    "    side1 = float(input(\"What is the length of side 1? \"))  #3\n",
    "    side2 = float(input(\"What is the length of side 2? \"))  #4\n",
    "    side3 = float(input(\"What is the length of side 3? \"))  #5.5\n",
    "    \n",
    "    # Calculate the perimeter\n",
    "    perimeter = side1 + side2 + side3\n",
    "    \n",
    "    # Print the perimeter\n",
    "    print(f\"The sum perimeter of the triangle is {perimeter}\")\n",
    "\n",
    "# Call the main function to execute the program\n",
    "if __name__ == \"__main__\":\n",
    "    main()"
   ]
  }
 ],
 "metadata": {
  "kernelspec": {
   "display_name": "python12",
   "language": "python",
   "name": "python3"
  },
  "language_info": {
   "codemirror_mode": {
    "name": "ipython",
    "version": 3
   },
   "file_extension": ".py",
   "mimetype": "text/x-python",
   "name": "python",
   "nbconvert_exporter": "python",
   "pygments_lexer": "ipython3",
   "version": "3.12.0"
  }
 },
 "nbformat": 4,
 "nbformat_minor": 2
}
