{
 "cells": [
  {
   "cell_type": "markdown",
   "metadata": {},
   "source": [
    "Problem Statement\n",
    "Write a Python program that takes two integer inputs from the user and calculates their sum. The program should perform the following tasks:\n",
    "\n",
    "Prompt the user to enter the first number.\n",
    "\n",
    "Read the input and convert it to an integer.\n",
    "\n",
    "Prompt the user to enter the second number.\n",
    "\n",
    "Read the input and convert it to an integer.\n",
    "\n",
    "Calculate the sum of the two numbers.\n",
    "\n",
    "Print the total sum with an appropriate message.\n",
    "\n",
    "The provided solution demonstrates a working implementation of this problem, where the main() function guides the user through the process of entering two numbers and displays their sum."
   ]
  },
  {
   "cell_type": "code",
   "execution_count": 8,
   "metadata": {},
   "outputs": [
    {
     "name": "stdout",
     "output_type": "stream",
     "text": [
      "This program adds two numbers.\n",
      "The sum of 6 and 1 is: 7\n"
     ]
    }
   ],
   "source": [
    "def sum():\n",
    "    print(\"This program adds two numbers.\")\n",
    "    first_No =int(input(\"Enter first number: \"))\n",
    "    second_No = int(input(\"Enter second number: \"))\n",
    "    total = first_No + second_No\n",
    "    return print(f\"The sum of {first_No} and {second_No} is: {total}\")\n",
    "sum()"
   ]
  }
 ],
 "metadata": {
  "kernelspec": {
   "display_name": "python12",
   "language": "python",
   "name": "python3"
  },
  "language_info": {
   "codemirror_mode": {
    "name": "ipython",
    "version": 3
   },
   "file_extension": ".py",
   "mimetype": "text/x-python",
   "name": "python",
   "nbconvert_exporter": "python",
   "pygments_lexer": "ipython3",
   "version": "3.12.0"
  }
 },
 "nbformat": 4,
 "nbformat_minor": 2
}
