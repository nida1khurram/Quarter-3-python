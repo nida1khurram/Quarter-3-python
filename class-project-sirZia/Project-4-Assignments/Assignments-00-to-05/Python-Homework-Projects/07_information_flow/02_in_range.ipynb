{
 "cells": [
  {
   "cell_type": "markdown",
   "metadata": {},
   "source": [
    "Problem Statement\n",
    "Implement the following function which takes in 3 integers as parameters:\n",
    "\n",
    "def in_range(n, low, high) \"\"\" Returns True if n is between low and high, inclusive. high is guaranteed to be greater than low. \"\"\""
   ]
  },
  {
   "cell_type": "code",
   "execution_count": 6,
   "metadata": {},
   "outputs": [
    {
     "name": "stdout",
     "output_type": "stream",
     "text": [
      "True\n",
      "False\n",
      "True\n",
      "True\n",
      "False\n"
     ]
    }
   ],
   "source": [
    "def in_range(n, low, high):\n",
    "    \"\"\"\n",
    "    Returns True if n is between low and high, inclusive.\n",
    "    high is guaranteed to be greater than low.\n",
    "    \"\"\"\n",
    "    return low <= n <= high\n",
    "    # Example 1: n is within the range\n",
    "print(in_range(5, 1, 10))  # Output: True\n",
    "\n",
    "# Example 2: n is outside the range\n",
    "print(in_range(15, 1, 10))  # Output: False\n",
    "\n",
    "# Example 3: n is equal to the lower bound\n",
    "print(in_range(1, 1, 10))  # Output: True\n",
    "\n",
    "# Example 4: n is equal to the upper bound\n",
    "print(in_range(10, 1, 10))  # Output: True\n",
    "\n",
    "# Example 5: n is below the lower bound\n",
    "print(in_range(0, 1, 10))  # Output: False"
   ]
  }
 ],
 "metadata": {
  "kernelspec": {
   "display_name": "python12",
   "language": "python",
   "name": "python3"
  },
  "language_info": {
   "codemirror_mode": {
    "name": "ipython",
    "version": 3
   },
   "file_extension": ".py",
   "mimetype": "text/x-python",
   "name": "python",
   "nbconvert_exporter": "python",
   "pygments_lexer": "ipython3",
   "version": "3.12.0"
  }
 },
 "nbformat": 4,
 "nbformat_minor": 2
}
