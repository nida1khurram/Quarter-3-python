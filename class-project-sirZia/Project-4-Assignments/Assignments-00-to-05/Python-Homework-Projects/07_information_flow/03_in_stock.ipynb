{
 "cells": [
  {
   "cell_type": "markdown",
   "metadata": {},
   "source": [
    "Problem Statement\n",
    "Sophia has a fruit store. She has written a function num_in_stock which takes a string fruit as a parameter and returns how many of that fruit are in her inventory. Write code in main() which will:\n",
    "\n",
    "Prompt the user to enter a fruit (\"Enter a fruit: \")\n",
    "\n",
    "Call num_in_stock(fruit) to get the number of that fruit that Sophia has in stock\n",
    "\n",
    "Print the number which are in stock if Sophia has that fruit in her inventory (there are more than 0 in stock)\n",
    "\n",
    "Print \"This fruit is not in stock.\" if Sophia has none of that fruit in her inventory.\n",
    "\n",
    "Here's two sample runs of the program (user input in bold italics):\n",
    "\n",
    "Enter a fruit: pear\n",
    "\n",
    "This fruit is in stock! Here is how many:\n",
    "\n",
    "1000\n",
    "\n",
    "Enter a fruit: lychee\n",
    "\n",
    "This fruit is not in stock."
   ]
  },
  {
   "cell_type": "code",
   "execution_count": 3,
   "metadata": {},
   "outputs": [
    {
     "name": "stdout",
     "output_type": "stream",
     "text": [
      "apple fruit is in stock! Here is how many:\n",
      "2\n"
     ]
    }
   ],
   "source": [
    "def main():\n",
    "\tfruit : str = input(\"Enter a fruit: \")\n",
    "\tstock = num_in_stock(fruit)\n",
    "\tif stock == 0:\n",
    "\t\tprint(f\"{fruit} fruit is not in stock.\")\n",
    "\telse:\n",
    "\t\tprint(f\"{fruit} fruit is in stock! Here is how many:\")\n",
    "\t\tprint(stock)\n",
    "\n",
    "# There is no need to edit code beyond this point\n",
    "\n",
    "def num_in_stock(fruit):\n",
    "\t\"\"\"\n",
    "\tThis function returns the number of fruit Sophia has in stock.\n",
    "\t\"\"\"\n",
    "\tif fruit == 'apple':\n",
    "\t\treturn 2\n",
    "\tif fruit == 'durian':\n",
    "\t\treturn 4\n",
    "\tif fruit == 'pear':\n",
    "\t\treturn 1000\n",
    "\telse:\n",
    "\t\t# this fruit is not in stock.\n",
    "\t\treturn 0\n",
    "\n",
    "\n",
    "if __name__ == '__main__':\n",
    "    main()"
   ]
  }
 ],
 "metadata": {
  "kernelspec": {
   "display_name": "python12",
   "language": "python",
   "name": "python3"
  },
  "language_info": {
   "codemirror_mode": {
    "name": "ipython",
    "version": 3
   },
   "file_extension": ".py",
   "mimetype": "text/x-python",
   "name": "python",
   "nbconvert_exporter": "python",
   "pygments_lexer": "ipython3",
   "version": "3.12.0"
  }
 },
 "nbformat": 4,
 "nbformat_minor": 2
}
