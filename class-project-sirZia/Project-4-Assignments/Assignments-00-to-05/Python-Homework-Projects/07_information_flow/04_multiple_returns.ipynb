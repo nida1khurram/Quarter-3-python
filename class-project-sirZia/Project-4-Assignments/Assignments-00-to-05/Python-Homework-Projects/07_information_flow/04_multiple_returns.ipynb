{
 "cells": [
  {
   "cell_type": "markdown",
   "metadata": {},
   "source": [
    "Problem Statement\n",
    "There are times where you are working with lots of different data within a function that you want to return. While generally, we want to keep functions to have a precise purpose, sometimes that purpose just deals with multiple bits of data.\n",
    "\n",
    "To practice this, imagine we are working on a program where the user needs to enters data to sign up for a website. Fill out the get_user_data() function which:\n",
    "\n",
    "Asks the user for their first name and stores it in a variable\n",
    "\n",
    "Asks the user for their last name and stores it in a variable\n",
    "\n",
    "Asks the user for their email address and stores it in a variable\n",
    "\n",
    "Returns all three of these pieces of data in the order it was asked\n",
    "\n",
    "You can return multiple pieces of data by separating each piece with a comma in the return line.\n",
    "\n",
    "Here is an example run of the program:\n",
    "\n",
    "What is your first name?: Jane\n",
    "\n",
    "What is your last name?: Stanford\n",
    "\n",
    "What is your email address?: janestanford@stanford.edu\n",
    "\n",
    "Received the following user data: ('Jane', 'Stanford', 'janestanford@stanford.edu')\n",
    "\n",
    "(Note. This idea is called tuple packing/unpacking. We \"pack\" our return values into a single data structure called a tuple. We can then \"unpack\" these values back into our original values or leave them as a tuple.)"
   ]
  },
  {
   "cell_type": "code",
   "execution_count": 1,
   "metadata": {},
   "outputs": [
    {
     "name": "stdout",
     "output_type": "stream",
     "text": [
      "Received the following user data: ('nida', 'khurram', 'abc@gmail.com')\n"
     ]
    }
   ],
   "source": [
    "def get_user_info():\n",
    "    first_name: str = input(\"What is your first name?: \")\n",
    "    last_name: str = input(\"What is your last name?: \")\n",
    "    email_address : str = input(\"What is your email address?: \")\n",
    "    \n",
    "    return first_name, last_name, email_address\n",
    "\n",
    "########## No need to edit code past this point :) ##########\n",
    "\n",
    "def main():\n",
    "    user_data = get_user_info()\n",
    "    print(\"Received the following user data:\", user_data)\n",
    "\n",
    "if __name__ == \"__main__\":\n",
    "     main()"
   ]
  }
 ],
 "metadata": {
  "kernelspec": {
   "display_name": "python12",
   "language": "python",
   "name": "python3"
  },
  "language_info": {
   "codemirror_mode": {
    "name": "ipython",
    "version": 3
   },
   "file_extension": ".py",
   "mimetype": "text/x-python",
   "name": "python",
   "nbconvert_exporter": "python",
   "pygments_lexer": "ipython3",
   "version": "3.12.0"
  }
 },
 "nbformat": 4,
 "nbformat_minor": 2
}
