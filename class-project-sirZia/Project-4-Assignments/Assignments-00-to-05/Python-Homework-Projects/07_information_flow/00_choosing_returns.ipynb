{
 "cells": [
  {
   "cell_type": "markdown",
   "metadata": {},
   "source": [
    "Problem Statement\n",
    "There are times where we want to return different things from a function based on some condition. To practice this idea, imagine that we want to check if someone is an adult. We might check their age and return different things depending on how old they are!\n",
    "\n",
    "We've provided you with the ADULT_AGE variable which has the age a person is legally classified as an adult (in the United States). Fill out the is_adult(age) function, which returns True if the function takes an age that is greater than or equal to ADULT_AGE. If the function takes an age less than ADULT_AGE, return False instead.\n",
    "\n",
    "Here are two sample runs of the program, one for each return option (user input in bold italics):\n",
    "\n",
    "(Entered age is an adult age)\n",
    "\n",
    "How old is this person?: 35\n",
    "\n",
    "True\n",
    "\n",
    "(Entered age is not an adult age)\n",
    "\n",
    "How old is this person?: 7\n",
    "\n",
    "False"
   ]
  },
  {
   "cell_type": "code",
   "execution_count": 2,
   "metadata": {},
   "outputs": [
    {
     "name": "stdout",
     "output_type": "stream",
     "text": [
      "True\n"
     ]
    }
   ],
   "source": [
    "ADULT_AGE : int = 18 # U.S. age \n",
    "\n",
    "def is_adult(age: int):\n",
    "    if age >= ADULT_AGE:\n",
    "        return True\n",
    "    \n",
    "    return False\n",
    "    \n",
    "########## No need to edit code beyond this point :) ##########\n",
    "\n",
    "def main():\n",
    "    age : str = int(input(\"How old is this person?: \"))\n",
    "    print(is_adult(age))\n",
    "    \n",
    "\n",
    "if __name__ == \"__main__\":\n",
    "    main()"
   ]
  }
 ],
 "metadata": {
  "kernelspec": {
   "display_name": "python12",
   "language": "python",
   "name": "python3"
  },
  "language_info": {
   "codemirror_mode": {
    "name": "ipython",
    "version": 3
   },
   "file_extension": ".py",
   "mimetype": "text/x-python",
   "name": "python",
   "nbconvert_exporter": "python",
   "pygments_lexer": "ipython3",
   "version": "3.12.0"
  }
 },
 "nbformat": 4,
 "nbformat_minor": 2
}
