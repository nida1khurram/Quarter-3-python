{
 "cells": [
  {
   "cell_type": "markdown",
   "metadata": {},
   "source": [
    "Problem Statement\n",
    "Fill out the chaotic_counting() function, which prints the numbers from 1 to 10, but with a catch. We've written a done() function which returns True with likelihood DONE_LIKELIHOOD -- at each number, before printing the number, you should call done() and check if it returns True or not. If done() returns True, we're done counting, and you should use a return statement to end the chaotic_counting() function execution and resume execution of main(), which will print \"I'm done.\". We've written main() for you -- check it out! Notice that we'll only print \"I'm done\" from main() once chaotic_counting() is done with its execution.\n",
    "\n",
    "Here's a sample run of this program:\n",
    "\n",
    "I'm going to count until 10 or until I feel like stopping, whichever comes first. 1 2 3 I'm done."
   ]
  },
  {
   "cell_type": "code",
   "execution_count": 3,
   "metadata": {},
   "outputs": [
    {
     "name": "stdout",
     "output_type": "stream",
     "text": [
      "I'm going to count until 10 or until I feel like stopping, whichever comes first. 1 2 3 4 5 I'm done.\n"
     ]
    }
   ],
   "source": [
    "import random\n",
    "\n",
    "# This is the done() function provided in the problem statement\n",
    "def done():\n",
    "    DONE_LIKELIHOOD = 0.1  # 10% chance of returning True\n",
    "    return random.random() < DONE_LIKELIHOOD\n",
    "\n",
    "# Implement the chaotic_counting() function\n",
    "def chaotic_counting():\n",
    "    for i in range(1, 11):  # Loop from 1 to 10\n",
    "        if done():  # Check if done() returns True\n",
    "            return  # Exit the function if done() returns True\n",
    "        print(i, end=\" \")  # Print the current number\n",
    "    # If the loop completes, the function will end naturally\n",
    "\n",
    "# This is the main() function provided in the problem statement\n",
    "def main():\n",
    "    print(\"I'm going to count until 10 or until I feel like stopping, whichever comes first.\", end=\" \")\n",
    "    chaotic_counting()  # Call the chaotic_counting() function\n",
    "    print(\"I'm done.\")  # Print \"I'm done\" after chaotic_counting() finishes\n",
    "\n",
    "# Call main() to run the program\n",
    "main()"
   ]
  }
 ],
 "metadata": {
  "kernelspec": {
   "display_name": "python12",
   "language": "python",
   "name": "python3"
  },
  "language_info": {
   "codemirror_mode": {
    "name": "ipython",
    "version": 3
   },
   "file_extension": ".py",
   "mimetype": "text/x-python",
   "name": "python",
   "nbconvert_exporter": "python",
   "pygments_lexer": "ipython3",
   "version": "3.12.0"
  }
 },
 "nbformat": 4,
 "nbformat_minor": 2
}
