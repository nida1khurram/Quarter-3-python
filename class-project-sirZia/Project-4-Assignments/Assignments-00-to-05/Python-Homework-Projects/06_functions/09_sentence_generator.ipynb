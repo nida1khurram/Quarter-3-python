{
 "cells": [
  {
   "cell_type": "markdown",
   "metadata": {},
   "source": [
    "Problem Statement\n",
    "Implement the helper function make_sentence(word, part_of_speech) which will take a string word and an integer part_of_speech as parameters and, depending on the part of speech, place the word into one of three sentence templates (or one from your imagination!):\n",
    "\n",
    "If part_of_speech is 0, we will assume the word is a noun and use the template: \"I am excited to add this ____ to my vast collection of them!\"\n",
    "\n",
    "If part_of_speech is 1, we will assume the word is a verb use the template: \"It's so nice outside today it makes me want to ____!\"\n",
    "\n",
    "If part_of_speech is 2, we will assume the word is an adjective and use the template: \"Looking out my window, the sky is big and ____!\" make_sentence(word, part_of_speech) should not return anything, just print the correct sentence with the word filled in the blank.\n",
    "\n",
    "Here's a sample run of the program (user input is in blue):\n",
    "\n",
    "Please type a noun, verb, or adjective: groovy Is this a noun, verb, or adjective? Type 0 for noun, 1 for verb, 2 for adjective: 2 Looking out my window, the sky is big and groovy!"
   ]
  },
  {
   "cell_type": "code",
   "execution_count": 16,
   "metadata": {},
   "outputs": [
    {
     "name": "stdout",
     "output_type": "stream",
     "text": [
      "Looking out my window, the sky is big and beautiful!\n"
     ]
    }
   ],
   "source": [
    "# Define the make_sentence function\n",
    "def make_sentence(word, part_of_speech):\n",
    "    if part_of_speech == 0:  # Noun\n",
    "        print(f\"I am excited to add this {word} to my vast collection of them!\")\n",
    "    elif part_of_speech == 1:  # Verb\n",
    "        print(f\"It's so nice outside today it makes me want to {word}!\")\n",
    "    elif part_of_speech == 2:  # Adjective\n",
    "        print(f\"Looking out my window, the sky is big and {word}!\")\n",
    "    else:\n",
    "        print(\"Invalid part of speech. Please choose 0 for noun, 1 for verb, or 2 for adjective.\")\n",
    "\n",
    "# This is the main() function with input validation\n",
    "def main():\n",
    "    # Prompt the user for a word\n",
    "    word = input(\"Please type a noun, verb, or adjective: \")\n",
    "\n",
    "    # Prompt the user for part of speech with validation\n",
    "    while True:\n",
    "        try:\n",
    "            part_of_speech = int(input(\"Is this a noun, verb, or adjective? Type 0 for noun, 1 for verb, 2 for adjective: \"))\n",
    "            if part_of_speech in {0, 1, 2}:  # Check if input is valid\n",
    "                break  # Exit the loop if input is valid\n",
    "            else:\n",
    "                print(\"Invalid input. Please enter 0, 1, or 2.\")\n",
    "        except ValueError:  # Handle non-integer input\n",
    "            print(\"Invalid input. Please enter a number (0, 1, or 2).\")\n",
    "\n",
    "    # Call the make_sentence function\n",
    "    make_sentence(word, part_of_speech)\n",
    "\n",
    "# Call main() to run the program\n",
    "main()"
   ]
  },
  {
   "cell_type": "markdown",
   "metadata": {},
   "source": [
    "book , 0\n",
    "go , 1\n",
    "beautiful, 2\n"
   ]
  }
 ],
 "metadata": {
  "kernelspec": {
   "display_name": "python12",
   "language": "python",
   "name": "python3"
  },
  "language_info": {
   "codemirror_mode": {
    "name": "ipython",
    "version": 3
   },
   "file_extension": ".py",
   "mimetype": "text/x-python",
   "name": "python",
   "nbconvert_exporter": "python",
   "pygments_lexer": "ipython3",
   "version": "3.12.0"
  }
 },
 "nbformat": 4,
 "nbformat_minor": 2
}
