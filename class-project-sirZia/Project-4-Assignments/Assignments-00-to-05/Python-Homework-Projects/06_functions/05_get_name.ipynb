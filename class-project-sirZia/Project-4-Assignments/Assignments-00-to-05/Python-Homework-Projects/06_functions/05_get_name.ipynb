{
 "cells": [
  {
   "cell_type": "markdown",
   "metadata": {},
   "source": [
    "Problem Statement\n",
    "Fill out the get_name() function to return your name as a string! We've written a main() function for you which calls your function to retrieve your name and then prints it in a greeting.\n",
    "\n",
    "Here's a sample run of the program where the name we've decided to return is Sophia (the autograder expects the returned name to be Sophia):\n",
    "\n",
    "Howdy Sophia ! 🤠"
   ]
  },
  {
   "cell_type": "code",
   "execution_count": 2,
   "metadata": {},
   "outputs": [
    {
     "name": "stdout",
     "output_type": "stream",
     "text": [
      "Howdy Sophia ! 🤠\n"
     ]
    }
   ],
   "source": [
    "def get_name():\n",
    "    return \"Sophia\"\n",
    "\n",
    "# There is no need to edit code beyond this point\n",
    "\n",
    "def main():\n",
    "    name = get_name() # get_name() will return a string which we store to the 'name' variable here\n",
    "    print(\"Howdy\", name, \"! 🤠\")\n",
    "\n",
    "if __name__ == '__main__':\n",
    "    main()"
   ]
  }
 ],
 "metadata": {
  "kernelspec": {
   "display_name": "python12",
   "language": "python",
   "name": "python3"
  },
  "language_info": {
   "codemirror_mode": {
    "name": "ipython",
    "version": 3
   },
   "file_extension": ".py",
   "mimetype": "text/x-python",
   "name": "python",
   "nbconvert_exporter": "python",
   "pygments_lexer": "ipython3",
   "version": "3.12.0"
  }
 },
 "nbformat": 4,
 "nbformat_minor": 2
}
