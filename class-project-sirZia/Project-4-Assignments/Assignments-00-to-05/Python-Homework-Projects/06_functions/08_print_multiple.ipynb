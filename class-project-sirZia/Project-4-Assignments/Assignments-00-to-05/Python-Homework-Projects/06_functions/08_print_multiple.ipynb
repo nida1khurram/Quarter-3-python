{
 "cells": [
  {
   "cell_type": "markdown",
   "metadata": {},
   "source": [
    "Problem Statement\n",
    "Fill out print_multiple(message, repeats), which takes as parameters a string message to print, and an integer repeats number of times to print message. We've written the main() function for you, which prompts the user for a message and a number of repeats.\n",
    "\n",
    "Here's a sample run of the program (user input is in blue):\n",
    "\n",
    "Please type a message: Hello! Enter a number of times to repeat your message: 6 Hello! Hello! Hello! Hello! Hello! Hello!"
   ]
  },
  {
   "cell_type": "code",
   "execution_count": 3,
   "metadata": {},
   "outputs": [
    {
     "name": "stdout",
     "output_type": "stream",
     "text": [
      "hello hello hello hello hello hello \n"
     ]
    }
   ],
   "source": [
    "# Define the print_multiple function\n",
    "def print_multiple(message, repeats):\n",
    "    for _ in range(repeats):  # Loop 'repeats' times\n",
    "        print(message, end=\" \")  # Print the message with a space at the end\n",
    "    print()  # Print a newline after all messages are printed\n",
    "\n",
    "# This is the main() function provided in the problem statement\n",
    "def main():\n",
    "    # Prompt the user for a message and number of repeats\n",
    "    message = input(\"Please type a message: \")\n",
    "    repeats = int(input(\"Enter a number of times to repeat your message: \"))\n",
    "    \n",
    "    # Call the print_multiple function\n",
    "    print_multiple(message, repeats)\n",
    "\n",
    "# Call main() to run the program\n",
    "main()"
   ]
  }
 ],
 "metadata": {
  "kernelspec": {
   "display_name": "python12",
   "language": "python",
   "name": "python3"
  },
  "language_info": {
   "codemirror_mode": {
    "name": "ipython",
    "version": 3
   },
   "file_extension": ".py",
   "mimetype": "text/x-python",
   "name": "python",
   "nbconvert_exporter": "python",
   "pygments_lexer": "ipython3",
   "version": "3.12.0"
  }
 },
 "nbformat": 4,
 "nbformat_minor": 2
}
