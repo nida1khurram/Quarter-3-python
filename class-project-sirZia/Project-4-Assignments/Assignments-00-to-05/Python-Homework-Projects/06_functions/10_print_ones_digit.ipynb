{
 "cells": [
  {
   "cell_type": "markdown",
   "metadata": {},
   "source": [
    "Problem Statement\n",
    "Write a function called print_ones_digit , which takes as a parameter an integer num and prints its ones digit. The modulo (remainder) operator, %, should be helpful to you here. Call your function from main()!\n",
    "\n",
    "Here's a sample run (user input is in blue):\n",
    "\n",
    "Enter a number: 42 The ones digit is 2"
   ]
  },
  {
   "cell_type": "code",
   "execution_count": 1,
   "metadata": {},
   "outputs": [
    {
     "name": "stdout",
     "output_type": "stream",
     "text": [
      "The ones digit is 6\n"
     ]
    }
   ],
   "source": [
    "# Define the print_ones_digit function\n",
    "def print_ones_digit(num):\n",
    "    ones_digit = num % 10  # Use modulo to get the ones digit\n",
    "    print(f\"The ones digit is {ones_digit}\")\n",
    "\n",
    "# Define the main function\n",
    "def main():\n",
    "    # Prompt the user for a number\n",
    "    num = int(input(\"Enter a number: \"))\n",
    "    \n",
    "    # Call the print_ones_digit function\n",
    "    print_ones_digit(num)\n",
    "\n",
    "# Call main() to run the program\n",
    "main()"
   ]
  }
 ],
 "metadata": {
  "kernelspec": {
   "display_name": "python12",
   "language": "python",
   "name": "python3"
  },
  "language_info": {
   "codemirror_mode": {
    "name": "ipython",
    "version": 3
   },
   "file_extension": ".py",
   "mimetype": "text/x-python",
   "name": "python",
   "nbconvert_exporter": "python",
   "pygments_lexer": "ipython3",
   "version": "3.12.0"
  }
 },
 "nbformat": 4,
 "nbformat_minor": 2
}
