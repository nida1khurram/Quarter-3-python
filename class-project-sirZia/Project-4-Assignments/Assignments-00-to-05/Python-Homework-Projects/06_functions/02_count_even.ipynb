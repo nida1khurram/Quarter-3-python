{
 "cells": [
  {
   "cell_type": "markdown",
   "metadata": {},
   "source": [
    "Problem Statement\n",
    "Fill out the function count_even(lst) which\n",
    "\n",
    "first populates a list by prompting the user for integers until they press enter (please use the prompt \"Enter an integer or press enter to stop: \"),\n",
    "\n",
    "and then prints the number of even numbers in the list.\n",
    "\n",
    "If you'd prefer to focus on the second task only, scroll down for our implementation of the first task!"
   ]
  },
  {
   "cell_type": "code",
   "execution_count": 2,
   "metadata": {},
   "outputs": [
    {
     "name": "stdout",
     "output_type": "stream",
     "text": [
      "3\n"
     ]
    }
   ],
   "source": [
    "\n",
    "def count_even(lst):\n",
    "    \"\"\"\n",
    "    Returns number of even numbers in list.\n",
    "    >>> count_even([1,2,3,4])\n",
    "    2\n",
    "    >>> count_even([1,3,5,7])\n",
    "    0\n",
    "    \"\"\"\n",
    "    count = 0  # Stores the count of even numbers in the list\n",
    "    for num in lst:  # Loop through the numbers in the list\n",
    "        if num % 2 == 0:  # If the current number in the list is even (divisible by 2)\n",
    "            count += 1  # Add one to our count!\n",
    "\n",
    "    # Here's another way to do this same thing, with a different kind of for-loop:\n",
    "    # for i in range(len(lst)):\n",
    "    #     num = lst[i]\n",
    "    #     if num % 2 == 0:\n",
    "    #         count += 1\n",
    "\n",
    "    print(count)  # Print out how many even numbers we counted above\n",
    "\n",
    "def get_list_of_ints():\n",
    "    \"\"\"\n",
    "    Reads in integers until the user presses enter and returns the resulting list.\n",
    "    \"\"\"\n",
    "    lst = []  # Make an empty list to store integers\n",
    "    user_input = input(\"Enter an integer or press enter to stop: \")  # Get user input for an integer\n",
    "    while user_input != \"\":  # While the user doesn't enter nothing...\n",
    "        lst.append(int(user_input))  # Cast the user input into an integer and add it to our list\n",
    "        user_input = input(\"Enter an integer or press enter to stop: \")  # Get the next user input\n",
    "\n",
    "    return lst\n",
    "\n",
    "def main():\n",
    "    lst = get_list_of_ints()\n",
    "    count_even(lst)\n",
    "\n",
    "\n",
    "# There is no need to edit code beyond this point\n",
    "\n",
    "if __name__ == '__main__':\n",
    "    main()"
   ]
  }
 ],
 "metadata": {
  "kernelspec": {
   "display_name": "python12",
   "language": "python",
   "name": "python3"
  },
  "language_info": {
   "codemirror_mode": {
    "name": "ipython",
    "version": 3
   },
   "file_extension": ".py",
   "mimetype": "text/x-python",
   "name": "python",
   "nbconvert_exporter": "python",
   "pygments_lexer": "ipython3",
   "version": "3.12.0"
  }
 },
 "nbformat": 4,
 "nbformat_minor": 2
}
