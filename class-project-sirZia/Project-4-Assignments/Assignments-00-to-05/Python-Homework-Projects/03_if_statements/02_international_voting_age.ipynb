{
 "cells": [
  {
   "cell_type": "markdown",
   "metadata": {},
   "source": [
    "Problem Statement\n",
    "Write a program which asks a user for their age and lets them know if they can or can't vote in the following three fictional countries.\n",
    "\n",
    "Around the world, different countries have different voting ages. In the fictional countries of Peturksbouipo, Stanlau, and Mayengua, the voting ages are very different:\n",
    "\n",
    "the voting age in Peturksbouipo is 16 (in real life, this is the voting age in, for example, Scotland, Ethiopia, and Austria)\n",
    "\n",
    "the voting age in Stanlau is 25 (in real life this is the voting age in the United Arab Emirates)\n",
    "\n",
    "the voting age in Mayengua is 48 (in real life, as far as we can tell, this isn't the voting age anywhere)\n",
    "\n",
    "Your code should prompt the for their age and print whether or not they can vote in Peturksbouipo, Stanlau, or Mayengua.\n",
    "\n",
    "Here's a sample run of the program (user input is in blue):\n",
    "\n",
    "How old are you? 20 You can vote in Peturksbouipo where the voting age is 16. You cannot vote in Stanlau where the voting age is 25. You cannot vote in Mayengua where the voting age is 48."
   ]
  },
  {
   "cell_type": "code",
   "execution_count": 2,
   "metadata": {},
   "outputs": [
    {
     "name": "stdout",
     "output_type": "stream",
     "text": [
      "You can vote in Peturksbouipo where the voting age is 16.\n",
      "You cannot vote in Stanlau where the voting age is 25.\n",
      "You cannot vote in Mayengua where the voting age is 48.\n"
     ]
    }
   ],
   "source": [
    "PETURKSBOUIPO_AGE : int = 16\n",
    "STANLAU_AGE : int = 25\n",
    "MAYENGUA_AGE : int = 48\n",
    "\n",
    "def main():\n",
    "    # Get the user's age\n",
    "    user_age = int(input(\"How old are you? \"))\n",
    "\n",
    "    # Check if the user can vote in Peturksbouipo\n",
    "    if user_age >= PETURKSBOUIPO_AGE:\n",
    "        print(\"You can vote in Peturksbouipo where the voting age is \" + str(PETURKSBOUIPO_AGE) + \".\")\n",
    "    else:\n",
    "        print(\"You cannot vote in Peturksbouipo where the voting age is \" + str(PETURKSBOUIPO_AGE) + \".\")\n",
    "    \n",
    "    # Check if the user can vote in Stanlau\n",
    "    if user_age >= STANLAU_AGE:\n",
    "        print(\"You can vote in Stanlau where the voting age is \" + str(STANLAU_AGE) + \".\")\n",
    "    else:\n",
    "        print(\"You cannot vote in Stanlau where the voting age is \" + str(STANLAU_AGE) + \".\")\n",
    "    \n",
    "    # Check if user can vote in Mayengua\n",
    "    if user_age >= MAYENGUA_AGE:\n",
    "        print(\"You can vote in Mayengua where the voting age is \" + str(MAYENGUA_AGE) + \".\")\n",
    "    else:\n",
    "        print(\"You cannot vote in Mayengua where the voting age is \" + str(MAYENGUA_AGE) + \".\")\n",
    "\n",
    "\n",
    "# There is no need to edit code beyond this point\n",
    "\n",
    "if __name__ == '__main__':\n",
    "    main()"
   ]
  }
 ],
 "metadata": {
  "kernelspec": {
   "display_name": "python12",
   "language": "python",
   "name": "python3"
  },
  "language_info": {
   "codemirror_mode": {
    "name": "ipython",
    "version": 3
   },
   "file_extension": ".py",
   "mimetype": "text/x-python",
   "name": "python",
   "nbconvert_exporter": "python",
   "pygments_lexer": "ipython3",
   "version": "3.12.0"
  }
 },
 "nbformat": 4,
 "nbformat_minor": 2
}
