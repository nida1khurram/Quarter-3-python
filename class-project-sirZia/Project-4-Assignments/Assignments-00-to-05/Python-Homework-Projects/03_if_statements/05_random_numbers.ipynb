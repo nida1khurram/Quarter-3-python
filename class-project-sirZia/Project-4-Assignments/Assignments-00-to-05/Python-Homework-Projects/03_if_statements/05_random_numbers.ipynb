{
 "cells": [
  {
   "cell_type": "markdown",
   "metadata": {},
   "source": [
    "Problem Statement\n",
    "Print 10 random numbers in the range 1 to 100.\n",
    "\n",
    "Here is an example run:\n",
    "\n",
    "45 79 61 47 52 10 16 83 19 12\n",
    "\n",
    "Each time you run your program you should get different numbers\n",
    "\n",
    "81 76 70 1 27 63 96 100 32 92\n",
    "\n",
    "Recall that the python random library has a function randint which returns an integer in the range set by the parameters (inclusive). For example this call would produce a random integer between 1 and 6, which could include 1 and could include 6:\n",
    "\n",
    "value = random.randint(1, 6)"
   ]
  },
  {
   "cell_type": "code",
   "execution_count": 5,
   "metadata": {},
   "outputs": [
    {
     "name": "stdout",
     "output_type": "stream",
     "text": [
      "93 32 77 96 47 91 72 41 96 7 \n"
     ]
    }
   ],
   "source": [
    "import random\n",
    "\n",
    "def print_random_numbers():\n",
    "    # Generate and print 10 random numbers between 1 and 100\n",
    "    for _ in range(10):\n",
    "        random_number = random.randint(1, 100)\n",
    "        print(random_number, end=\" \")\n",
    "    print()  # Print a newline at the end\n",
    "\n",
    "# Call the function\n",
    "print_random_numbers()"
   ]
  }
 ],
 "metadata": {
  "kernelspec": {
   "display_name": "python12",
   "language": "python",
   "name": "python3"
  },
  "language_info": {
   "codemirror_mode": {
    "name": "ipython",
    "version": 3
   },
   "file_extension": ".py",
   "mimetype": "text/x-python",
   "name": "python",
   "nbconvert_exporter": "python",
   "pygments_lexer": "ipython3",
   "version": "3.12.0"
  }
 },
 "nbformat": 4,
 "nbformat_minor": 2
}
