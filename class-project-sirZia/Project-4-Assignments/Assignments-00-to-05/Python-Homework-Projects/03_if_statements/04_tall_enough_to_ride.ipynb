{
 "cells": [
  {
   "cell_type": "markdown",
   "metadata": {},
   "source": [
    "Problem Statement\n",
    "Write a program which asks the user how tall they are and prints whether or not they're taller than a pre-specified minimum height.\n",
    "\n",
    "In amusement parks (ah, the good old pre-pandemic days...), rollercoasters frequently have minimum height requirements for safety reasons. Assume for now that the minimum height is 50 of whatever height unit you'd like\n",
    "\n",
    "Here's two sample runs (user input is in bold italics):\n",
    "\n",
    "How tall are you? 100\n",
    "\n",
    "You're tall enough to ride!\n",
    "\n",
    "How tall are you? 10\n",
    "\n",
    "You're not tall enough to ride, but maybe next year!\n",
    "\n",
    "(For an extra challenge, write code which will repeatedly ask a user how tall they are and tell them whether or not they're tall enough to ride, until the user doesn't enter a height at all, in which case the program stops. Curious about how to do this? See the function tall_enough_extension() in the solution code!)"
   ]
  },
  {
   "cell_type": "code",
   "execution_count": 3,
   "metadata": {},
   "outputs": [
    {
     "name": "stdout",
     "output_type": "stream",
     "text": [
      "You're tall enough to ride!\n"
     ]
    }
   ],
   "source": [
    "MINIMUM_HEIGHT : int = 50 # arbitrary units :)\n",
    "\n",
    "def main():\n",
    "    height = float(input(\"How tall are you? \"))\n",
    "    if height >= MINIMUM_HEIGHT:\n",
    "        print(\"You're tall enough to ride!\")\n",
    "    else:\n",
    "        print(\"You're not tall enough to ride, but maybe next year!\")\n",
    "\n",
    "\n",
    "# There is no need to edit code beyond this point\n",
    "\n",
    "if __name__ == '__main__':\n",
    "    main()"
   ]
  }
 ],
 "metadata": {
  "kernelspec": {
   "display_name": "python12",
   "language": "python",
   "name": "python3"
  },
  "language_info": {
   "codemirror_mode": {
    "name": "ipython",
    "version": 3
   },
   "file_extension": ".py",
   "mimetype": "text/x-python",
   "name": "python",
   "nbconvert_exporter": "python",
   "pygments_lexer": "ipython3",
   "version": "3.12.0"
  }
 },
 "nbformat": 4,
 "nbformat_minor": 2
}
