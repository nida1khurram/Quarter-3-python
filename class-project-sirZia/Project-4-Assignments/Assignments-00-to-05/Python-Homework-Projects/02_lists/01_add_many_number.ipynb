{
 "cells": [
  {
   "cell_type": "markdown",
   "metadata": {},
   "source": [
    "Problem Statement\n",
    "Write a function that takes a list of numbers and returns the sum of those numbers."
   ]
  },
  {
   "cell_type": "code",
   "execution_count": 5,
   "metadata": {},
   "outputs": [
    {
     "name": "stdout",
     "output_type": "stream",
     "text": [
      "Sum of list of numbers\n",
      "Number =[1, 2, 3, 4, 5]\n",
      "sum_of_numbers :15\n"
     ]
    }
   ],
   "source": [
    "def add_many_numbers(numbers)-> int:\n",
    "    \"\"\"\n",
    "    Takes in a list of numbers and returns the sum of those numbers.\n",
    "    \"\"\"\n",
    "\n",
    "    total_so_far: int = 0\n",
    "    for number in numbers:\n",
    "        total_so_far += number\n",
    "\n",
    "    return total_so_far\n",
    "\n",
    "# There is no need to edit code beyond this point\n",
    "\n",
    "def main():\n",
    "    print(\"Sum of list of numbers\")\n",
    "    numbers: list[int] = [1, 2, 3, 4, 5]  # Make a list of numbers\n",
    "    sum_of_numbers: int = add_many_numbers(numbers)  # Find the sum of the list\n",
    "    print(f\"Number ={numbers}\")\n",
    "    print(f\"sum_of_numbers :{sum_of_numbers}\")  # Print out the sum above\n",
    "    \n",
    "\n",
    "if __name__ == '__main__':\n",
    "    main()"
   ]
  }
 ],
 "metadata": {
  "kernelspec": {
   "display_name": "python12",
   "language": "python",
   "name": "python3"
  },
  "language_info": {
   "codemirror_mode": {
    "name": "ipython",
    "version": 3
   },
   "file_extension": ".py",
   "mimetype": "text/x-python",
   "name": "python",
   "nbconvert_exporter": "python",
   "pygments_lexer": "ipython3",
   "version": "3.12.0"
  }
 },
 "nbformat": 4,
 "nbformat_minor": 2
}
