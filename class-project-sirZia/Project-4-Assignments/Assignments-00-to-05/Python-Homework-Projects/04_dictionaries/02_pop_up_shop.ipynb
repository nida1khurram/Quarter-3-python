{
 "cells": [
  {
   "cell_type": "markdown",
   "metadata": {},
   "source": [
    "Problem Statement\n",
    "There's a small fruit shop nearby your house that you like to buy from. Since you buy several fruit at a time, you want to keep track of how much the fruit will cost before you go. Luckily you wrote down what fruits were available and how much one of each fruit costs.\n",
    "\n",
    "Write a program that loops through a dictionary of fruits, prompting the user to see how many of each fruit they want to buy, and then prints out the total combined cost of all of the fruits.\n",
    "\n",
    "Here is an example run of the program (user input is in bold italics):\n",
    "\n",
    "How many (apple) do you want?: 2\n",
    "\n",
    "How many (durian) do you want?: 0\n",
    "\n",
    "How many (jackfruit) do you want?: 1\n",
    "\n",
    "How many (kiwi) do you want?: 0\n",
    "\n",
    "How many (rambutan) do you want?: 1\n",
    "\n",
    "How many (mango) do you want?: 3\n",
    "\n",
    "Your total is $99.5"
   ]
  },
  {
   "cell_type": "code",
   "execution_count": 1,
   "metadata": {},
   "outputs": [
    {
     "name": "stdout",
     "output_type": "stream",
     "text": [
      "Your total is $99.5\n"
     ]
    }
   ],
   "source": [
    "def main():\n",
    "    fruits = {'apple': 1.5, 'durian': 50, 'jackfruit': 80, 'kiwi': 1, 'rambutan': 1.5, 'mango': 5}\n",
    "    \n",
    "    total_cost = 0\n",
    "    for fruit_name in fruits:\n",
    "        price = fruits[fruit_name]\n",
    "        amount_bought = int(input(\"How many (\" + fruit_name + \") do you want to buy?: \"))\n",
    "        total_cost += (price * amount_bought)\n",
    "    \n",
    "    print(\"Your total is $\" + str(total_cost))\n",
    "\n",
    "\n",
    "# There is no need to edit code beyond this point\n",
    "\n",
    "if __name__ == '__main__':\n",
    "    main()"
   ]
  }
 ],
 "metadata": {
  "kernelspec": {
   "display_name": "python12",
   "language": "python",
   "name": "python3"
  },
  "language_info": {
   "codemirror_mode": {
    "name": "ipython",
    "version": 3
   },
   "file_extension": ".py",
   "mimetype": "text/x-python",
   "name": "python",
   "nbconvert_exporter": "python",
   "pygments_lexer": "ipython3",
   "version": "3.12.0"
  }
 },
 "nbformat": 4,
 "nbformat_minor": 2
}
