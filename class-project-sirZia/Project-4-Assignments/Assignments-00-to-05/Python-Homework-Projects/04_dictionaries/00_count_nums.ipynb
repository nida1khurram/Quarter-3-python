{
 "cells": [
  {
   "cell_type": "markdown",
   "metadata": {},
   "source": [
    "Problem Statement\n",
    "This program counts the number of times each number appears in a list. It uses a dictionary to keep track of the information.\n",
    "\n",
    "An example run of the program looks like this (user input is in blue):\n",
    "\n",
    "Enter a number: 3 Enter a number: 4 Enter a number: 3 Enter a number: 6 Enter a number: 4 Enter a number: 3 Enter a number: 12 Enter a number: 3 appears 3 times. 4 appears 2 times. 6 appears 1 times. 12 appears 1 times."
   ]
  },
  {
   "cell_type": "code",
   "execution_count": 2,
   "metadata": {},
   "outputs": [
    {
     "name": "stdout",
     "output_type": "stream",
     "text": [
      "3 appears 3 times.\n",
      "4 appears 2 times.\n",
      "12 appears 1 times.\n",
      "6 appears 1 times.\n"
     ]
    }
   ],
   "source": [
    "def get_user_numbers():\n",
    "    \"\"\"\n",
    "    Create an empty list.\n",
    "    Ask the user to input numbers and store them in a list. \n",
    "    Once they enter a blank line, break out of the loop and return the list.\n",
    "    \"\"\"\n",
    "    user_numbers = []\n",
    "    while True:\n",
    "        user_input = input(\"Enter a number: \")\n",
    "        \n",
    "        # If the user enters a blank line, break out of the loop and stop asking for input\n",
    "        if user_input == \"\":\n",
    "            break\n",
    "        \n",
    "        # convert the user input to an integer and add it to the list\n",
    "        num = int(user_input)\n",
    "        user_numbers.append(num)\n",
    "    \n",
    "    return user_numbers\n",
    "\n",
    "def count_nums(num_lst):\n",
    "    \"\"\"\n",
    "    Create an empty dictionary.\n",
    "    Loop over the list of numbers. \n",
    "    If the number is not in the dictionary, add it as a key with a value of 1.\n",
    "    If the number is in the dictionary, increment its value by 1.\n",
    "    \"\"\"\n",
    "    num_dict = {}\n",
    "    for num in num_lst:\n",
    "        if num not in num_dict:\n",
    "            num_dict[num] = 1\n",
    "        else:\n",
    "            num_dict[num] += 1\n",
    "    \n",
    "    return num_dict\n",
    "\n",
    "\n",
    "def print_counts(num_dict):\n",
    "    \"\"\"\n",
    "    Loop over the dictionary and print out each key and its value.\n",
    "    \"\"\"\n",
    "    for num in num_dict:\n",
    "        print(str(num) + \" appears \" + str(num_dict[num]) + \" times.\")\n",
    "\n",
    "\n",
    "def main():\n",
    "    \"\"\"\n",
    "    Ask the user to input numbers and store them in a list. Once they enter a blank line,\n",
    "    print out the number of times each number appeared in the list.\n",
    "    \"\"\"\n",
    "    user_numbers = get_user_numbers()\n",
    "    num_dict = count_nums(user_numbers)\n",
    "    print_counts(num_dict)\n",
    "\n",
    "\n",
    "# Python boilerplate.\n",
    "if __name__ == '__main__':\n",
    "    main()"
   ]
  }
 ],
 "metadata": {
  "kernelspec": {
   "display_name": "python12",
   "language": "python",
   "name": "python3"
  },
  "language_info": {
   "codemirror_mode": {
    "name": "ipython",
    "version": 3
   },
   "file_extension": ".py",
   "mimetype": "text/x-python",
   "name": "python",
   "nbconvert_exporter": "python",
   "pygments_lexer": "ipython3",
   "version": "3.12.0"
  }
 },
 "nbformat": 4,
 "nbformat_minor": 2
}
