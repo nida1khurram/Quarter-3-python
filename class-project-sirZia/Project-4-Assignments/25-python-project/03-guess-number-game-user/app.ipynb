{
 "cells": [
  {
   "cell_type": "markdown",
   "metadata": {},
   "source": [
    "Guess Number Game User"
   ]
  },
  {
   "cell_type": "code",
   "execution_count": 1,
   "metadata": {},
   "outputs": [
    {
     "name": "stdout",
     "output_type": "stream",
     "text": [
      "yes! The computer guessed your number. 100, correctly\n"
     ]
    }
   ],
   "source": [
    "import random\n",
    "# guess by user\n",
    "def computer_user(x):\n",
    "  random_number = random.randint(1,x)\n",
    "  guess = 0\n",
    "  low = 1\n",
    "  high = x\n",
    "  feedback = ''\n",
    "  while feedback != 'c':\n",
    "    if low != high:\n",
    "      guess = random.randint(low, high)\n",
    "    else:\n",
    "      guess = low\n",
    "    feedback = input(f'Is {guess} too high (H), too low (L), or correct (c)??').lower()\n",
    "    if feedback == 'h':\n",
    "      high == -1\n",
    "    elif feedback == 'l':\n",
    "        low = guess +1\n",
    "\n",
    "  print(f'yes! The computer guessed your number. {guess}, correctly')\n",
    "computer_user(100)"
   ]
  }
 ],
 "metadata": {
  "kernelspec": {
   "display_name": "python12",
   "language": "python",
   "name": "python3"
  },
  "language_info": {
   "codemirror_mode": {
    "name": "ipython",
    "version": 3
   },
   "file_extension": ".py",
   "mimetype": "text/x-python",
   "name": "python",
   "nbconvert_exporter": "python",
   "pygments_lexer": "ipython3",
   "version": "3.12.0"
  }
 },
 "nbformat": 4,
 "nbformat_minor": 2
}
