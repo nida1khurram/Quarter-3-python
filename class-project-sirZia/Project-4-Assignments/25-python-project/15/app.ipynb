{
 "cells": [
  {
   "cell_type": "code",
   "execution_count": 1,
   "id": "63db06b6",
   "metadata": {},
   "outputs": [
    {
     "name": "stdout",
     "output_type": "stream",
     "text": [
      "\n",
      "\n",
      "1 : Loving you, feels like magic inside  \n",
      "\n",
      "2 : Lost in time, memories fade away  \n",
      "\n",
      "3 : Lonely roads, lead to stories unknown  \n",
      "\n",
      "4 : Lost and found, in the music of life  \n",
      "\n"
     ]
    }
   ],
   "source": [
    "\n",
    "def generate_lyrics(word:str):\n",
    "    print(\"\\n\")\n",
    "    with open(\"./lyrics.txt\", \"r\", encoding=\"utf-8\") as file:\n",
    "        lines = file.readlines() \n",
    "        find = list(filter(lambda x : x[0].lower() == word.lower() , lines))\n",
    "\n",
    "        if find:\n",
    "            count = 1\n",
    "            for i in find:\n",
    "                print(f\"{count} : {i}\")\n",
    "                count += 1\n",
    "        else:\n",
    "            print(\"Not Found Your Lyrics\")\n",
    "\n",
    "\n",
    "def main():\n",
    "    user_input = input(\"\\nEnter alphabet : \")\n",
    "    if user_input == \"\":\n",
    "        print(\"\\nPlease enter alphabet\")\n",
    "    else:\n",
    "        generate_lyrics(user_input)\n",
    "\n",
    "\n",
    "if __name__ in \"__main__\":\n",
    "    main()"
   ]
  }
 ],
 "metadata": {
  "kernelspec": {
   "display_name": "base",
   "language": "python",
   "name": "python3"
  },
  "language_info": {
   "codemirror_mode": {
    "name": "ipython",
    "version": 3
   },
   "file_extension": ".py",
   "mimetype": "text/x-python",
   "name": "python",
   "nbconvert_exporter": "python",
   "pygments_lexer": "ipython3",
   "version": "3.12.7"
  }
 },
 "nbformat": 4,
 "nbformat_minor": 5
}
