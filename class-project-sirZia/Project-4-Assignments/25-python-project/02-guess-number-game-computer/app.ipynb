{
 "cells": [
  {
   "cell_type": "markdown",
   "metadata": {},
   "source": [
    "Guess the Number Game-Computer"
   ]
  },
  {
   "cell_type": "code",
   "execution_count": 1,
   "metadata": {},
   "outputs": [
    {
     "name": "stdout",
     "output_type": "stream",
     "text": [
      "Sorry! guess again. Too low.\n",
      "Sorry! guess again. Too low.\n",
      "Sorry! guess again. Too low.\n",
      "Congrates. You have guess the number 10 correctly\n"
     ]
    }
   ],
   "source": [
    "import random\n",
    "def guess(x):\n",
    "  random_number = random.randint(1,x)\n",
    "  guess = 0\n",
    "  while guess != random_number:\n",
    "    guess = int(input(f\"Plz guess a number between 1 and {x}: \"))\n",
    "    if guess < random_number:\n",
    "      print(\"Sorry! guess again. Too low.\")\n",
    "    elif guess > random_number:\n",
    "      print(\"Sorry! guess again. Too high\")\n",
    "\n",
    "  print(f\"Congrates. You have guess the number {random_number} correctly\")\n",
    "\n",
    "guess(10)"
   ]
  }
 ],
 "metadata": {
  "kernelspec": {
   "display_name": "python12",
   "language": "python",
   "name": "python3"
  },
  "language_info": {
   "codemirror_mode": {
    "name": "ipython",
    "version": 3
   },
   "file_extension": ".py",
   "mimetype": "text/x-python",
   "name": "python",
   "nbconvert_exporter": "python",
   "pygments_lexer": "ipython3",
   "version": "3.12.0"
  }
 },
 "nbformat": 4,
 "nbformat_minor": 2
}
