{
 "cells": [
  {
   "cell_type": "markdown",
   "id": "518f69bf",
   "metadata": {},
   "source": [
    "Password generator"
   ]
  },
  {
   "cell_type": "code",
   "execution_count": 1,
   "id": "b7b87713",
   "metadata": {},
   "outputs": [
    {
     "name": "stdout",
     "output_type": "stream",
     "text": [
      "\n",
      "Here are your Passwords:\n",
      "ZEiKnbjR\n",
      ",liBBXVj\n",
      "NoOy?F6Q\n",
      "99aMyqK,\n",
      "z4!I)Zpm\n",
      "3nZh,FM1\n",
      "pSSh5nUb\n",
      "RsA^Pq8G\n"
     ]
    }
   ],
   "source": [
    "import random\n",
    "import string\n",
    "\n",
    "print(\"Welcome To Your Password Generator\")\n",
    "\n",
    "# Using string module for better character definitions\n",
    "chars = string.ascii_letters + string.digits + '!@#$%^&*().,^?'\n",
    "\n",
    "while True:\n",
    "    try:\n",
    "        number = int(input('Amount of passwords to generate: '))\n",
    "        length = int(input('Input your password length: '))\n",
    "        if number <= 0 or length <= 0:\n",
    "            print(\"Please enter positive numbers only.\")\n",
    "            continue\n",
    "        break\n",
    "    except ValueError:\n",
    "        print(\"Please enter valid numbers only.\")\n",
    "\n",
    "print(\"\\nHere are your Passwords:\")\n",
    "\n",
    "for pwd in range(number):\n",
    "    password = ''.join(random.choice(chars) for _ in range(length))\n",
    "    print(password)"
   ]
  }
 ],
 "metadata": {
  "kernelspec": {
   "display_name": "base",
   "language": "python",
   "name": "python3"
  },
  "language_info": {
   "codemirror_mode": {
    "name": "ipython",
    "version": 3
   },
   "file_extension": ".py",
   "mimetype": "text/x-python",
   "name": "python",
   "nbconvert_exporter": "python",
   "pygments_lexer": "ipython3",
   "version": "3.12.7"
  }
 },
 "nbformat": 4,
 "nbformat_minor": 5
}
