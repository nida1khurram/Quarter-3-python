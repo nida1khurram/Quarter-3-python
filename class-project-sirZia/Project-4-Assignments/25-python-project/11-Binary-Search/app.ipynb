{
 "cells": [
  {
   "cell_type": "code",
   "execution_count": 1,
   "id": "0f111eca",
   "metadata": {},
   "outputs": [
    {
     "name": "stdout",
     "output_type": "stream",
     "text": [
      "Element 7 is present at index 3.\n"
     ]
    }
   ],
   "source": [
    "def binary_search(arr, target):\n",
    "    \"\"\"\n",
    "    Perform binary search on a sorted list to find the index of the target value.\n",
    "\n",
    "    :param arr: List of elements (must be sorted in ascending order).\n",
    "    :param target: The value to search for.\n",
    "    :return: The index of the target value if found, otherwise -1.\n",
    "    \"\"\"\n",
    "    left, right = 0, len(arr) - 1\n",
    "\n",
    "    while left <= right:\n",
    "        mid = left + (right - left) // 2\n",
    "\n",
    "        # Check if the target is at the mid index\n",
    "        if arr[mid] == target:\n",
    "            return mid\n",
    "        # If target is greater, ignore the left half\n",
    "        elif arr[mid] < target:\n",
    "            left = mid + 1\n",
    "        # If target is smaller, ignore the right half\n",
    "        else:\n",
    "            right = mid - 1\n",
    "\n",
    "    # Target was not found in the array\n",
    "    return -1\n",
    "\n",
    "# Example usage\n",
    "if __name__ == \"__main__\":\n",
    "    # Sorted list\n",
    "    arr = [1, 3, 5, 7, 9, 11, 13, 15, 17, 19]\n",
    "    target = 7\n",
    "\n",
    "    # Perform binary search\n",
    "    result = binary_search(arr, target)\n",
    "\n",
    "    # Output the result\n",
    "    if result != -1:\n",
    "        print(f\"Element {target} is present at index {result}.\")\n",
    "    else:\n",
    "        print(f\"Element {target} is not present in the array.\")"
   ]
  }
 ],
 "metadata": {
  "kernelspec": {
   "display_name": "base",
   "language": "python",
   "name": "python3"
  },
  "language_info": {
   "codemirror_mode": {
    "name": "ipython",
    "version": 3
   },
   "file_extension": ".py",
   "mimetype": "text/x-python",
   "name": "python",
   "nbconvert_exporter": "python",
   "pygments_lexer": "ipython3",
   "version": "3.12.7"
  }
 },
 "nbformat": 4,
 "nbformat_minor": 5
}
