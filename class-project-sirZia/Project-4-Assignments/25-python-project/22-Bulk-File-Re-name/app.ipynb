{
 "cells": [
  {
   "cell_type": "code",
   "execution_count": 15,
   "id": "eac60c36",
   "metadata": {},
   "outputs": [
    {
     "name": "stdout",
     "output_type": "stream",
     "text": [
      "Renamed: 'flower.jpg' to 'img0.jpg'\n",
      "\n",
      "Operation completed successfully\n"
     ]
    }
   ],
   "source": [
    "import os\n",
    "\n",
    "def main():\n",
    "    i = 0\n",
    "    path = \"D:/learning/Quarter-3-python/class-project-sirZia/Project-4-Assignments/25-python-project/22-Bulk-File-Re-name/img\"\n",
    "    \n",
    "    # Check if path exists\n",
    "    if not os.path.exists(path):\n",
    "        print(f\"Error: Path '{path}' does not exist\")\n",
    "        return\n",
    "    \n",
    "    # Check if path is a directory\n",
    "    if not os.path.isdir(path):\n",
    "        print(f\"Error: '{path}' is not a directory\")\n",
    "        return\n",
    "    \n",
    "    # Get list of files\n",
    "    try:\n",
    "        files = os.listdir(path)\n",
    "    except PermissionError:\n",
    "        print(f\"Error: No permission to access '{path}'\")\n",
    "        return\n",
    "    \n",
    "    # Rename files\n",
    "    for file_name in files:\n",
    "        # Skip directories if any\n",
    "        if os.path.isdir(os.path.join(path, file_name)):\n",
    "            continue\n",
    "            \n",
    "        # Split filename and extension\n",
    "        file_ext = os.path.splitext(file_name)[1]  # gets .jpg, .png etc.\n",
    "        \n",
    "        # Create new filename\n",
    "        my_dest = f\"img{i}{file_ext}\"\n",
    "        my_source = os.path.join(path, file_name)\n",
    "        my_dest_full = os.path.join(path, my_dest)\n",
    "        \n",
    "        try:\n",
    "            os.rename(my_source, my_dest_full)\n",
    "            print(f\"Renamed: '{file_name}' to '{my_dest}'\")\n",
    "            i += 1\n",
    "        except OSError as e:\n",
    "            print(f\"Error renaming '{file_name}': {e}\")\n",
    "\n",
    "    print(\"\\nOperation completed successfully\")\n",
    "\n",
    "if __name__ == \"__main__\":\n",
    "    main()"
   ]
  },
  {
   "cell_type": "code",
   "execution_count": 13,
   "id": "7ef98830",
   "metadata": {},
   "outputs": [
    {
     "name": "stdout",
     "output_type": "stream",
     "text": [
      "Renamed: 'flower.jpg' to 'img0.jpg'\n",
      "\n",
      "Operation completed successfully\n"
     ]
    }
   ],
   "source": [
    "import os\n",
    "\n",
    "def main():\n",
    "    i = 0\n",
    "    path = \"C:/Users/A.K.TECHNOLOGY/Desktop/img\"\n",
    "    \n",
    "    # Check if path exists first\n",
    "    if not os.path.exists(path):\n",
    "        print(f\"Error: The path '{path}' does not exist\")\n",
    "        return\n",
    "    \n",
    "    # Get all files in directory\n",
    "    try:\n",
    "        files = os.listdir(path)\n",
    "    except PermissionError:\n",
    "        print(f\"Error: No permission to access '{path}'\")\n",
    "        return\n",
    "    \n",
    "    # Rename files\n",
    "    for file_name in files:\n",
    "        # Skip directories if any\n",
    "        if os.path.isdir(os.path.join(path, file_name)):\n",
    "            continue\n",
    "            \n",
    "        # Get file extension\n",
    "        _, ext = os.path.splitext(file_name)\n",
    "        \n",
    "        # Create new filename (preserve original extension)\n",
    "        my_dest = f\"img{i}{ext.lower()}\"  # Convert extension to lowercase\n",
    "        my_source = os.path.join(path, file_name)\n",
    "        my_dest_full = os.path.join(path, my_dest)\n",
    "        \n",
    "        try:\n",
    "            os.rename(my_source, my_dest_full)\n",
    "            print(f\"Renamed: '{file_name}' to '{my_dest}'\")\n",
    "            i += 1\n",
    "        except OSError as e:\n",
    "            print(f\"Error renaming '{file_name}': {e}\")\n",
    "\n",
    "    print(\"\\nOperation completed successfully\")\n",
    "\n",
    "if __name__ == \"__main__\":\n",
    "    main()"
   ]
  }
 ],
 "metadata": {
  "kernelspec": {
   "display_name": "base",
   "language": "python",
   "name": "python3"
  },
  "language_info": {
   "codemirror_mode": {
    "name": "ipython",
    "version": 3
   },
   "file_extension": ".py",
   "mimetype": "text/x-python",
   "name": "python",
   "nbconvert_exporter": "python",
   "pygments_lexer": "ipython3",
   "version": "3.12.7"
  }
 },
 "nbformat": 4,
 "nbformat_minor": 5
}
