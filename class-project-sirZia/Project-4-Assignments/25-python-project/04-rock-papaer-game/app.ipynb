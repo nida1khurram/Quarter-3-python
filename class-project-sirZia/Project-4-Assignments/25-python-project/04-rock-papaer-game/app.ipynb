{
 "cells": [
  {
   "cell_type": "markdown",
   "id": "1280e229",
   "metadata": {},
   "source": [
    "Rock Paper Game"
   ]
  },
  {
   "cell_type": "code",
   "execution_count": 1,
   "id": "542cd80e",
   "metadata": {},
   "outputs": [
    {
     "name": "stdout",
     "output_type": "stream",
     "text": [
      "Computer chose: rock\n",
      "Tie!\n",
      "Computer chose: paper\n",
      "Tie!\n",
      "Computer chose: rock\n",
      "Computer wins!\n"
     ]
    }
   ],
   "source": [
    "import random\n",
    "options = ['rock', 'paper', 'scissors']\n",
    "\n",
    "while True:\n",
    "    user = input(\"\\nrock, paper, scissors? (or 'quit'): \").lower()\n",
    "    if user == 'quit': break\n",
    "    if user not in options:\n",
    "        print(\"Invalid choice! Try again.\")\n",
    "        continue\n",
    "    \n",
    "    computer = random.choice(options)\n",
    "    print(f\"Computer chose: {computer}\")\n",
    "    \n",
    "    if user == computer:\n",
    "        print(\"Tie!\")\n",
    "    elif (user == 'rock' and computer == 'scissors') or \\\n",
    "         (user == 'paper' and computer == 'rock') or \\\n",
    "         (user == 'scissors' and computer == 'paper'):\n",
    "        print(\"You win!\")\n",
    "    else:\n",
    "        print(\"Computer wins!\")"
   ]
  }
 ],
 "metadata": {
  "kernelspec": {
   "display_name": "base",
   "language": "python",
   "name": "python3"
  },
  "language_info": {
   "codemirror_mode": {
    "name": "ipython",
    "version": 3
   },
   "file_extension": ".py",
   "mimetype": "text/x-python",
   "name": "python",
   "nbconvert_exporter": "python",
   "pygments_lexer": "ipython3",
   "version": "3.12.7"
  }
 },
 "nbformat": 4,
 "nbformat_minor": 5
}
