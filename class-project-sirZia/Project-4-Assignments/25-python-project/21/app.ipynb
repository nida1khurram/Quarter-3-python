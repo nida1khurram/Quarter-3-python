{
 "cells": [
  {
   "cell_type": "code",
   "execution_count": 1,
   "id": "c1420da9",
   "metadata": {},
   "outputs": [
    {
     "name": "stdout",
     "output_type": "stream",
     "text": [
      "Profile image URL: https://avatars.githubusercontent.com/u/147607279?s=64&v=4\n"
     ]
    }
   ],
   "source": [
    "import requests\n",
    "from bs4 import BeautifulSoup as bs\n",
    "from bs4.element import Tag  # Import Tag for type checking\n",
    "\n",
    "github_user = input(\"Input GitHub User: \")\n",
    "url = \"https://github.com/\" + github_user\n",
    "r = requests.get(url)\n",
    "soup = bs(r.content, \"html.parser\")\n",
    "\n",
    "img_tag = soup.find(\"img\", class_=\"avatar-user\")\n",
    "\n",
    "# Check if img_tag is a Tag object and has 'src' attribute\n",
    "if isinstance(img_tag, Tag) and img_tag.has_attr(\"src\"):\n",
    "    profile_image = img_tag[\"src\"]\n",
    "    print(\"Profile image URL:\", profile_image)\n",
    "else:\n",
    "    print(\"❌ Profile image not found. The username may be incorrect or GitHub layout has changed.\")\n"
   ]
  }
 ],
 "metadata": {
  "kernelspec": {
   "display_name": "base",
   "language": "python",
   "name": "python3"
  },
  "language_info": {
   "codemirror_mode": {
    "name": "ipython",
    "version": 3
   },
   "file_extension": ".py",
   "mimetype": "text/x-python",
   "name": "python",
   "nbconvert_exporter": "python",
   "pygments_lexer": "ipython3",
   "version": "3.12.7"
  }
 },
 "nbformat": 4,
 "nbformat_minor": 5
}
