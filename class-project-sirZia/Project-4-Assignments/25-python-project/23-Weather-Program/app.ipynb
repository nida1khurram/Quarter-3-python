{
 "cells": [
  {
   "cell_type": "code",
   "execution_count": 1,
   "id": "5d908414",
   "metadata": {},
   "outputs": [
    {
     "name": "stdout",
     "output_type": "stream",
     "text": [
      "The weather in karachi is: Clear\n",
      "The temperature in karachi is: 90\n"
     ]
    }
   ],
   "source": [
    "# pip install requests\n",
    "import requests\n",
    "api_key = \"9de5e751a71a5fed5badfc1bec107f54\"\n",
    "user_input = input(\"Enter City :\")\n",
    "weather_data = requests.get(\n",
    "    f\"https://api.openweathermap.org/data/2.5/weather?q={user_input}&units=imperial&appid={api_key}\")\n",
    "if weather_data.json()['cod'] == '404':\n",
    "    print(\"No City Found\")\n",
    "else:\n",
    "    # print(weather_data.status_code) # for checking purpose 200 mean yes\n",
    "    # print(weather_data.json())\n",
    "\n",
    "    weather = weather_data.json()['weather'][0]['main']\n",
    "    temp = round(weather_data.json()['main']['temp'])\n",
    "    print(f\"The weather in {user_input} is: {weather}\")\n",
    "    print(f\"The temperature in {user_input} is: {temp}\")\n",
    "\n",
    "    # temp = weather_data.json()['main']['temp']\n",
    "    # print(weather, temp)  #for check"
   ]
  }
 ],
 "metadata": {
  "kernelspec": {
   "display_name": "base",
   "language": "python",
   "name": "python3"
  },
  "language_info": {
   "codemirror_mode": {
    "name": "ipython",
    "version": 3
   },
   "file_extension": ".py",
   "mimetype": "text/x-python",
   "name": "python",
   "nbconvert_exporter": "python",
   "pygments_lexer": "ipython3",
   "version": "3.12.7"
  }
 },
 "nbformat": 4,
 "nbformat_minor": 5
}
