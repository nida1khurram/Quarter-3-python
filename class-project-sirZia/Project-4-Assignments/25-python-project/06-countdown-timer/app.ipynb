{
 "cells": [
  {
   "cell_type": "markdown",
   "id": "224b4320",
   "metadata": {},
   "source": [
    "Countdown timer"
   ]
  },
  {
   "cell_type": "code",
   "execution_count": 1,
   "id": "90bd28ea",
   "metadata": {},
   "outputs": [
    {
     "name": "stdout",
     "output_type": "stream",
     "text": [
      "Welcome To Countdown Timer\n",
      "Time's up!      00:01\n"
     ]
    }
   ],
   "source": [
    "import time\n",
    "print(\"Welcome To Countdown Timer\")\n",
    "def countdown(seconds):\n",
    "    while seconds:\n",
    "        mins, secs = divmod(seconds, 60)\n",
    "        print(f\"\\rTime remaining: {mins:02d}:{secs:02d}\", end=\"\")\n",
    "        time.sleep(1)\n",
    "        seconds -= 1\n",
    "    print(\"\\rTime's up!      \")\n",
    "\n",
    "if __name__ == \"__main__\":\n",
    "    try:\n",
    "        t = int(input(\"Enter countdown time in seconds: \"))\n",
    "        countdown(t)\n",
    "    except ValueError:\n",
    "        print(\"Please enter a valid number.\")"
   ]
  }
 ],
 "metadata": {
  "kernelspec": {
   "display_name": "base",
   "language": "python",
   "name": "python3"
  },
  "language_info": {
   "codemirror_mode": {
    "name": "ipython",
    "version": 3
   },
   "file_extension": ".py",
   "mimetype": "text/x-python",
   "name": "python",
   "nbconvert_exporter": "python",
   "pygments_lexer": "ipython3",
   "version": "3.12.7"
  }
 },
 "nbformat": 4,
 "nbformat_minor": 5
}
