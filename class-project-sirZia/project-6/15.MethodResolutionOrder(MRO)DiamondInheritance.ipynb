{
 "cells": [
  {
   "cell_type": "markdown",
   "id": "a5dd4541",
   "metadata": {},
   "source": [
    "Assignment:\n",
    "Create four classes:\n",
    "\n",
    "A with a method show(),\n",
    "\n",
    "B and C that inherit from A and override show(),\n",
    "\n",
    "D that inherits from both B and C.\n",
    "\n",
    "Create an object of D and call show() to observe MRO."
   ]
  },
  {
   "cell_type": "code",
   "execution_count": 1,
   "id": "00dd2037",
   "metadata": {},
   "outputs": [
    {
     "name": "stdout",
     "output_type": "stream",
     "text": [
      "B\n",
      "[<class '__main__.D'>, <class '__main__.B'>, <class '__main__.C'>, <class '__main__.A'>, <class 'object'>]\n"
     ]
    }
   ],
   "source": [
    "class A:\n",
    "    def show(self):\n",
    "        print(\"A\")\n",
    "\n",
    "class B(A):\n",
    "    def show(self):\n",
    "        print(\"B\")\n",
    "\n",
    "class C(A):\n",
    "    def show(self):\n",
    "        print(\"C\")\n",
    "\n",
    "class D(B, C):\n",
    "    pass\n",
    "\n",
    "d = D()\n",
    "d.show()  # Output: B (due to MRO)\n",
    "print(D.mro())"
   ]
  }
 ],
 "metadata": {
  "kernelspec": {
   "display_name": "base",
   "language": "python",
   "name": "python3"
  },
  "language_info": {
   "codemirror_mode": {
    "name": "ipython",
    "version": 3
   },
   "file_extension": ".py",
   "mimetype": "text/x-python",
   "name": "python",
   "nbconvert_exporter": "python",
   "pygments_lexer": "ipython3",
   "version": "3.12.7"
  }
 },
 "nbformat": 4,
 "nbformat_minor": 5
}
