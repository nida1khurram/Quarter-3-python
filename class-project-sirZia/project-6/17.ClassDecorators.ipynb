{
 "cells": [
  {
   "cell_type": "markdown",
   "id": "dbb117d9",
   "metadata": {},
   "source": [
    "Assignment:\n",
    "Create a class decorator add_greeting that modifies a class to add a greet() method returning \"Hello from Decorator!\". Apply it to a class Person."
   ]
  },
  {
   "cell_type": "code",
   "execution_count": 1,
   "id": "fb3af939",
   "metadata": {},
   "outputs": [
    {
     "name": "stdout",
     "output_type": "stream",
     "text": [
      "Hello from Decorator!\n"
     ]
    }
   ],
   "source": [
    "def add_greeting(cls):\n",
    "    cls.greet = lambda self: \"Hello from Decorator!\"\n",
    "    return cls\n",
    "\n",
    "@add_greeting\n",
    "class Person:\n",
    "    pass\n",
    "\n",
    "p = Person()\n",
    "print(p.greet())"
   ]
  }
 ],
 "metadata": {
  "kernelspec": {
   "display_name": "base",
   "language": "python",
   "name": "python3"
  },
  "language_info": {
   "codemirror_mode": {
    "name": "ipython",
    "version": 3
   },
   "file_extension": ".py",
   "mimetype": "text/x-python",
   "name": "python",
   "nbconvert_exporter": "python",
   "pygments_lexer": "ipython3",
   "version": "3.12.7"
  }
 },
 "nbformat": 4,
 "nbformat_minor": 5
}
