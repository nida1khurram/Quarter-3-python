{
 "cells": [
  {
   "cell_type": "markdown",
   "id": "2f8fcc81",
   "metadata": {},
   "source": [
    "Assignment:\n",
    "Create a class Bank with a class variable bank_name. Add a class method change_bank_name(cls, name) that allows changing the bank name. Show that it affects all instances."
   ]
  },
  {
   "cell_type": "code",
   "execution_count": 1,
   "id": "72210fc0",
   "metadata": {},
   "outputs": [
    {
     "name": "stdout",
     "output_type": "stream",
     "text": [
      "XYZ Bank\n"
     ]
    }
   ],
   "source": [
    "class Bank:\n",
    "    bank_name = \"ABC Bank\"\n",
    "    \n",
    "    @classmethod\n",
    "    def change_name(cls, name):\n",
    "        cls.bank_name = name\n",
    "\n",
    "b1 = Bank()\n",
    "Bank.change_name(\"XYZ Bank\")\n",
    "print(b1.bank_name)  # Output: XYZ Bank"
   ]
  }
 ],
 "metadata": {
  "kernelspec": {
   "display_name": "base",
   "language": "python",
   "name": "python3"
  },
  "language_info": {
   "codemirror_mode": {
    "name": "ipython",
    "version": 3
   },
   "file_extension": ".py",
   "mimetype": "text/x-python",
   "name": "python",
   "nbconvert_exporter": "python",
   "pygments_lexer": "ipython3",
   "version": "3.12.7"
  }
 },
 "nbformat": 4,
 "nbformat_minor": 5
}
