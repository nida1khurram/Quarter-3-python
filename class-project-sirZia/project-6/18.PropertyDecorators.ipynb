{
 "cells": [
  {
   "cell_type": "markdown",
   "id": "e7d6ef3b",
   "metadata": {},
   "source": [
    "Assignment:\n",
    "Create a class Product with a private attribute _price. Use @property to get the price, @price.setter to update it, and @price.deleter to delete it."
   ]
  },
  {
   "cell_type": "code",
   "execution_count": 1,
   "id": "00cd26e7",
   "metadata": {},
   "outputs": [
    {
     "name": "stdout",
     "output_type": "stream",
     "text": [
      "100\n"
     ]
    }
   ],
   "source": [
    "class Product:\n",
    "    def __init__(self):\n",
    "        self._price = 0\n",
    "    \n",
    "    @property\n",
    "    def price(self):\n",
    "        return self._price\n",
    "    \n",
    "    @price.setter\n",
    "    def price(self, value):\n",
    "        self._price = value\n",
    "    \n",
    "    @price.deleter\n",
    "    def price(self):\n",
    "        del self._price\n",
    "\n",
    "p = Product()\n",
    "p.price = 100\n",
    "print(p.price)"
   ]
  }
 ],
 "metadata": {
  "kernelspec": {
   "display_name": "base",
   "language": "python",
   "name": "python3"
  },
  "language_info": {
   "codemirror_mode": {
    "name": "ipython",
    "version": 3
   },
   "file_extension": ".py",
   "mimetype": "text/x-python",
   "name": "python",
   "nbconvert_exporter": "python",
   "pygments_lexer": "ipython3",
   "version": "3.12.7"
  }
 },
 "nbformat": 4,
 "nbformat_minor": 5
}
