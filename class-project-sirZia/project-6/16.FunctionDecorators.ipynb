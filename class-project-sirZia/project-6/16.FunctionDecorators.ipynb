{
 "cells": [
  {
   "cell_type": "markdown",
   "id": "2af4b535",
   "metadata": {},
   "source": [
    "Assignment:\n",
    "Write a decorator function log_function_call that prints \"Function is being called\" before a function executes. Apply it to a function say_hello().\n",
    "\n"
   ]
  },
  {
   "cell_type": "code",
   "execution_count": 1,
   "id": "19c3311b",
   "metadata": {},
   "outputs": [
    {
     "name": "stdout",
     "output_type": "stream",
     "text": [
      "Function is being called\n",
      "Hello\n"
     ]
    }
   ],
   "source": [
    "def log_function_call(func):\n",
    "    def wrapper():\n",
    "        print(\"Function is being called\")\n",
    "        func()\n",
    "    return wrapper\n",
    "\n",
    "@log_function_call\n",
    "def say_hello():\n",
    "    print(\"Hello\")\n",
    "\n",
    "say_hello()"
   ]
  }
 ],
 "metadata": {
  "kernelspec": {
   "display_name": "base",
   "language": "python",
   "name": "python3"
  },
  "language_info": {
   "codemirror_mode": {
    "name": "ipython",
    "version": 3
   },
   "file_extension": ".py",
   "mimetype": "text/x-python",
   "name": "python",
   "nbconvert_exporter": "python",
   "pygments_lexer": "ipython3",
   "version": "3.12.7"
  }
 },
 "nbformat": 4,
 "nbformat_minor": 5
}
