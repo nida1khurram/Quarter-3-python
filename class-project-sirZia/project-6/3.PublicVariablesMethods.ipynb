{
 "cells": [
  {
   "cell_type": "markdown",
   "id": "f4ff444d",
   "metadata": {},
   "source": [
    "Assignment:\n",
    "Create a class Car with a public variable brand and a public method start(). Instantiate the class and access both from outside the class."
   ]
  },
  {
   "cell_type": "code",
   "execution_count": 1,
   "id": "f874c384",
   "metadata": {},
   "outputs": [
    {
     "name": "stdout",
     "output_type": "stream",
     "text": [
      "Toyota\n",
      "Toyota started\n"
     ]
    }
   ],
   "source": [
    "class Car:\n",
    "    def __init__(self, brand):\n",
    "        self.brand = brand\n",
    "    \n",
    "    def start(self):\n",
    "        print(f\"{self.brand} started\")\n",
    "\n",
    "my_car = Car(\"Toyota\")\n",
    "print(my_car.brand)\n",
    "my_car.start()"
   ]
  }
 ],
 "metadata": {
  "kernelspec": {
   "display_name": "base",
   "language": "python",
   "name": "python3"
  },
  "language_info": {
   "codemirror_mode": {
    "name": "ipython",
    "version": 3
   },
   "file_extension": ".py",
   "mimetype": "text/x-python",
   "name": "python",
   "nbconvert_exporter": "python",
   "pygments_lexer": "ipython3",
   "version": "3.12.7"
  }
 },
 "nbformat": 4,
 "nbformat_minor": 5
}
