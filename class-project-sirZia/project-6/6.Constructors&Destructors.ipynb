{
 "cells": [
  {
   "cell_type": "markdown",
   "id": "bda79d0c",
   "metadata": {},
   "source": [
    "Assignment:\n",
    "Create a class Logger that prints a message when an object is created (constructor) and another message when it is destroyed (destructor)."
   ]
  },
  {
   "cell_type": "code",
   "execution_count": 1,
   "id": "5f11e47a",
   "metadata": {},
   "outputs": [
    {
     "name": "stdout",
     "output_type": "stream",
     "text": [
      "Object created\n",
      "Object destroyed\n"
     ]
    }
   ],
   "source": [
    "class Logger:\n",
    "    def __init__(self):\n",
    "        print(\"Object created\")\n",
    "    \n",
    "    def __del__(self):\n",
    "        print(\"Object destroyed\")\n",
    "\n",
    "logger = Logger()\n",
    "del logger"
   ]
  }
 ],
 "metadata": {
  "kernelspec": {
   "display_name": "base",
   "language": "python",
   "name": "python3"
  },
  "language_info": {
   "codemirror_mode": {
    "name": "ipython",
    "version": 3
   },
   "file_extension": ".py",
   "mimetype": "text/x-python",
   "name": "python",
   "nbconvert_exporter": "python",
   "pygments_lexer": "ipython3",
   "version": "3.12.7"
  }
 },
 "nbformat": 4,
 "nbformat_minor": 5
}
