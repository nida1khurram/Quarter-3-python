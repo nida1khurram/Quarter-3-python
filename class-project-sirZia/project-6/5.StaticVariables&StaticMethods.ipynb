{
 "cells": [
  {
   "cell_type": "markdown",
   "id": "c8346269",
   "metadata": {},
   "source": [
    "Assignment:\n",
    "Create a class MathUtils with a static method add(a, b) that returns the sum. No class or instance variables should be used."
   ]
  },
  {
   "cell_type": "code",
   "execution_count": 1,
   "id": "7a400176",
   "metadata": {},
   "outputs": [
    {
     "name": "stdout",
     "output_type": "stream",
     "text": [
      "5\n"
     ]
    }
   ],
   "source": [
    "class MathUtils:\n",
    "    @staticmethod\n",
    "    def add(a, b):\n",
    "        return a + b\n",
    "\n",
    "print(MathUtils.add(2, 3))  # Output: 5"
   ]
  }
 ],
 "metadata": {
  "kernelspec": {
   "display_name": "base",
   "language": "python",
   "name": "python3"
  },
  "language_info": {
   "codemirror_mode": {
    "name": "ipython",
    "version": 3
   },
   "file_extension": ".py",
   "mimetype": "text/x-python",
   "name": "python",
   "nbconvert_exporter": "python",
   "pygments_lexer": "ipython3",
   "version": "3.12.7"
  }
 },
 "nbformat": 4,
 "nbformat_minor": 5
}
