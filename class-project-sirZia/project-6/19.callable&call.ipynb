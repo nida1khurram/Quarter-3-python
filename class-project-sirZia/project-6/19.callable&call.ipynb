{
 "cells": [
  {
   "cell_type": "markdown",
   "id": "d3ae9e92",
   "metadata": {},
   "source": [
    "Assignment:\n",
    "Create a class Multiplier with an __init__() to set a factor. Define a __call__() method that multiplies an input by the factor. Test it with callable() and by calling the object like a function."
   ]
  },
  {
   "cell_type": "code",
   "execution_count": 1,
   "id": "91367add",
   "metadata": {},
   "outputs": [
    {
     "name": "stdout",
     "output_type": "stream",
     "text": [
      "True\n",
      "50\n"
     ]
    }
   ],
   "source": [
    "class Multiplier:\n",
    "    def __init__(self, factor):\n",
    "        self.factor = factor\n",
    "    \n",
    "    def __call__(self, x):\n",
    "        return x * self.factor\n",
    "\n",
    "m = Multiplier(5)\n",
    "print(callable(m))  # True\n",
    "print(m(10))        # 50"
   ]
  }
 ],
 "metadata": {
  "kernelspec": {
   "display_name": "base",
   "language": "python",
   "name": "python3"
  },
  "language_info": {
   "codemirror_mode": {
    "name": "ipython",
    "version": 3
   },
   "file_extension": ".py",
   "mimetype": "text/x-python",
   "name": "python",
   "nbconvert_exporter": "python",
   "pygments_lexer": "ipython3",
   "version": "3.12.7"
  }
 },
 "nbformat": 4,
 "nbformat_minor": 5
}
