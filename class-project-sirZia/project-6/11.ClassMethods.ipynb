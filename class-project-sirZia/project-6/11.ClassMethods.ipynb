{
 "cells": [
  {
   "cell_type": "markdown",
   "id": "601ec518",
   "metadata": {},
   "source": [
    "Assignment:\n",
    "Create a class Book with a class variable total_books. Add a class method increment_book_count() to increase the count when a new book is added."
   ]
  },
  {
   "cell_type": "code",
   "execution_count": 1,
   "id": "256bf70b",
   "metadata": {},
   "outputs": [
    {
     "name": "stdout",
     "output_type": "stream",
     "text": [
      "1\n"
     ]
    }
   ],
   "source": [
    "class Book:\n",
    "    total_books = 0\n",
    "    \n",
    "    @classmethod\n",
    "    def increment_count(cls):\n",
    "        cls.total_books += 1\n",
    "\n",
    "Book.increment_count()\n",
    "print(Book.total_books)  # Output: 1"
   ]
  }
 ],
 "metadata": {
  "kernelspec": {
   "display_name": "base",
   "language": "python",
   "name": "python3"
  },
  "language_info": {
   "codemirror_mode": {
    "name": "ipython",
    "version": 3
   },
   "file_extension": ".py",
   "mimetype": "text/x-python",
   "name": "python",
   "nbconvert_exporter": "python",
   "pygments_lexer": "ipython3",
   "version": "3.12.7"
  }
 },
 "nbformat": 4,
 "nbformat_minor": 5
}
