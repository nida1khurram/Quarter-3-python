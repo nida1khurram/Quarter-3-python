{
 "cells": [
  {
   "cell_type": "markdown",
   "id": "01015cea",
   "metadata": {},
   "source": [
    "Assignment:\n",
    "Use the abc module to create an abstract class Shape with an abstract method area(). Inherit a class Rectangle that implements area()."
   ]
  },
  {
   "cell_type": "code",
   "execution_count": 1,
   "id": "ce7551db",
   "metadata": {},
   "outputs": [
    {
     "name": "stdout",
     "output_type": "stream",
     "text": [
      "50\n"
     ]
    }
   ],
   "source": [
    "from abc import ABC, abstractmethod\n",
    "\n",
    "class Shape(ABC):\n",
    "    @abstractmethod\n",
    "    def area(self):\n",
    "        pass\n",
    "\n",
    "class Rectangle(Shape):\n",
    "    def area(self):\n",
    "        return 10 * 5\n",
    "\n",
    "r = Rectangle()\n",
    "print(r.area())"
   ]
  }
 ],
 "metadata": {
  "kernelspec": {
   "display_name": "base",
   "language": "python",
   "name": "python3"
  },
  "language_info": {
   "codemirror_mode": {
    "name": "ipython",
    "version": 3
   },
   "file_extension": ".py",
   "mimetype": "text/x-python",
   "name": "python",
   "nbconvert_exporter": "python",
   "pygments_lexer": "ipython3",
   "version": "3.12.7"
  }
 },
 "nbformat": 4,
 "nbformat_minor": 5
}
