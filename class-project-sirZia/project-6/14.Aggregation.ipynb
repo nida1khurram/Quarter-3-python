{
 "cells": [
  {
   "cell_type": "markdown",
   "id": "7e56e1b5",
   "metadata": {},
   "source": [
    "Assignment:\n",
    "Create a class Department and a class Employee. Use aggregation by having a Department object store a reference to an Employee object that exists independently of it."
   ]
  },
  {
   "cell_type": "code",
   "execution_count": 1,
   "id": "93dcbf37",
   "metadata": {},
   "outputs": [
    {
     "name": "stdout",
     "output_type": "stream",
     "text": [
      "Alice\n"
     ]
    }
   ],
   "source": [
    "class Employee:\n",
    "    def __init__(self, name):\n",
    "        self.name = name\n",
    "\n",
    "class Department:\n",
    "    def __init__(self, emp):\n",
    "        self.employee = emp\n",
    "\n",
    "e = Employee(\"Alice\")\n",
    "d = Department(e)\n",
    "print(d.employee.name)"
   ]
  }
 ],
 "metadata": {
  "kernelspec": {
   "display_name": "base",
   "language": "python",
   "name": "python3"
  },
  "language_info": {
   "codemirror_mode": {
    "name": "ipython",
    "version": 3
   },
   "file_extension": ".py",
   "mimetype": "text/x-python",
   "name": "python",
   "nbconvert_exporter": "python",
   "pygments_lexer": "ipython3",
   "version": "3.12.7"
  }
 },
 "nbformat": 4,
 "nbformat_minor": 5
}
